{
 "cells": [
  {
   "cell_type": "markdown",
   "metadata": {},
   "source": [
    "# Financial Planning with APIs and Simulations\n",
    "\n",
    "In this Challenge, you’ll create two financial analysis tools by using a single Jupyter notebook:\n",
    "\n",
    "Part 1: A financial planner for emergencies. The members will be able to use this tool to visualize their current savings. The members can then determine if they have enough reserves for an emergency fund.\n",
    "\n",
    "Part 2: A financial planner for retirement. This tool will forecast the performance of their retirement portfolio in 30 years. To do this, the tool will make an Alpaca API call via the Alpaca SDK to get historical price data for use in Monte Carlo simulations.\n",
    "\n",
    "You’ll use the information from the Monte Carlo simulation to answer questions about the portfolio in your Jupyter notebook.\n",
    "\n"
   ]
  },
  {
   "cell_type": "code",
   "execution_count": 1,
   "metadata": {},
   "outputs": [],
   "source": [
    "# Import the required libraries and dependencies\n",
    "import os\n",
    "import requests\n",
    "import json\n",
    "import pandas as pd\n",
    "from dotenv import load_dotenv\n",
    "import alpaca_trade_api as tradeapi\n",
    "from MCForecastTools import MCSimulation\n",
    "\n",
    "%matplotlib inline"
   ]
  },
  {
   "cell_type": "code",
   "execution_count": 2,
   "metadata": {},
   "outputs": [
    {
     "data": {
      "text/plain": [
       "True"
      ]
     },
     "execution_count": 2,
     "metadata": {},
     "output_type": "execute_result"
    }
   ],
   "source": [
    "# Load the environment variables from the .env file\n",
    "#by calling the load_dotenv function\n",
    "load_dotenv()"
   ]
  },
  {
   "cell_type": "markdown",
   "metadata": {},
   "source": [
    "## Part 1: Create a Financial Planner for Emergencies"
   ]
  },
  {
   "cell_type": "markdown",
   "metadata": {},
   "source": [
    "### Evaluate the Cryptocurrency Wallet by Using the Requests Library\n",
    "\n",
    "In this section, you’ll determine the current value of a member’s cryptocurrency wallet. You’ll collect the current prices for the Bitcoin and Ethereum cryptocurrencies by using the Python Requests library. For the prototype, you’ll assume that the member holds the 1.2 Bitcoins (BTC) and 5.3 Ethereum coins (ETH). To do all this, complete the following steps:\n",
    "\n",
    "1. Create a variable named `monthly_income`, and set its value to `12000`.\n",
    "\n",
    "2. Use the Requests library to get the current price (in US dollars) of Bitcoin (BTC) and Ethereum (ETH) by using the API endpoints that the starter code supplies.\n",
    "\n",
    "3. Navigate the JSON response object to access the current price of each coin, and store each in a variable.\n",
    "\n",
    "    > **Hint** Note the specific identifier for each cryptocurrency in the API JSON response. The Bitcoin identifier is `1`, and the Ethereum identifier is `1027`.\n",
    "\n",
    "4. Calculate the value, in US dollars, of the current amount of each cryptocurrency and of the entire cryptocurrency wallet.\n",
    "\n"
   ]
  },
  {
   "cell_type": "code",
   "execution_count": 3,
   "metadata": {},
   "outputs": [],
   "source": [
    "# The current number of coins for each cryptocurrency asset held in the portfolio.\n",
    "btc_coins = 1.2\n",
    "eth_coins = 5.3"
   ]
  },
  {
   "cell_type": "markdown",
   "metadata": {},
   "source": [
    "#### Step 1: Create a variable named `monthly_income`, and set its value to `12000`."
   ]
  },
  {
   "cell_type": "code",
   "execution_count": 4,
   "metadata": {},
   "outputs": [],
   "source": [
    "# The monthly amount for the member's household income\n",
    "# YOUR CODE HERE\n",
    "monthly_income = 12000\n"
   ]
  },
  {
   "cell_type": "markdown",
   "metadata": {},
   "source": [
    "#### Review the endpoint URLs for the API calls to Free Crypto API in order to get the current pricing information for both BTC and ETH."
   ]
  },
  {
   "cell_type": "code",
   "execution_count": 5,
   "metadata": {},
   "outputs": [],
   "source": [
    "# The Free Crypto API Call endpoint URLs for the held cryptocurrency assets\n",
    "btc_url = \"https://api.alternative.me/v2/ticker/Bitcoin/?convert=USD\"\n",
    "eth_url = \"https://api.alternative.me/v2/ticker/Ethereum/?convert=USD\""
   ]
  },
  {
   "cell_type": "markdown",
   "metadata": {},
   "source": [
    "#### Step 2. Use the Requests library to get the current price (in US dollars) of Bitcoin (BTC) and Ethereum (ETH) by using the API endpoints that the starter code supplied."
   ]
  },
  {
   "cell_type": "code",
   "execution_count": 6,
   "metadata": {},
   "outputs": [
    {
     "name": "stdout",
     "output_type": "stream",
     "text": [
      "{\n",
      "    \"data\": {\n",
      "        \"1\": {\n",
      "            \"circulating_supply\": 18693093,\n",
      "            \"id\": 1,\n",
      "            \"last_updated\": 1619574774,\n",
      "            \"max_supply\": 21000000,\n",
      "            \"name\": \"Bitcoin\",\n",
      "            \"quotes\": {\n",
      "                \"USD\": {\n",
      "                    \"market_cap\": 1039064354098,\n",
      "                    \"percent_change_1h\": 0.452268258758189,\n",
      "                    \"percent_change_24h\": 3.48580134493029,\n",
      "                    \"percent_change_7d\": -1.25594449858703,\n",
      "                    \"percentage_change_1h\": 0.452268258758189,\n",
      "                    \"percentage_change_24h\": 3.48580134493029,\n",
      "                    \"percentage_change_7d\": -1.25594449858703,\n",
      "                    \"price\": 55588.0,\n",
      "                    \"volume_24h\": 48838708892\n",
      "                }\n",
      "            },\n",
      "            \"rank\": 1,\n",
      "            \"symbol\": \"BTC\",\n",
      "            \"total_supply\": 18693093,\n",
      "            \"website_slug\": \"bitcoin\"\n",
      "        }\n",
      "    },\n",
      "    \"metadata\": {\n",
      "        \"error\": null,\n",
      "        \"num_cryptocurrencies\": 1311,\n",
      "        \"timestamp\": 1619574774\n",
      "    }\n",
      "}\n"
     ]
    }
   ],
   "source": [
    "# Using the Python requests library, make an API call to access the current price of BTC\n",
    "btc_response = requests.get(btc_url).json()\n",
    "\n",
    "\n",
    "# Use the json.dumps function to review the response data from the API call\n",
    "# Use the indent and sort_keys parameters to make the response object readable\n",
    "# YOUR CODE HERE\n",
    "print(json.dumps(btc_response, indent=4, sort_keys=True))\n"
   ]
  },
  {
   "cell_type": "code",
   "execution_count": 7,
   "metadata": {},
   "outputs": [
    {
     "name": "stdout",
     "output_type": "stream",
     "text": [
      "{\n",
      "    \"data\": {\n",
      "        \"1027\": {\n",
      "            \"circulating_supply\": 115648182,\n",
      "            \"id\": 1027,\n",
      "            \"last_updated\": 1619574798,\n",
      "            \"max_supply\": 0,\n",
      "            \"name\": \"Ethereum\",\n",
      "            \"quotes\": {\n",
      "                \"USD\": {\n",
      "                    \"market_cap\": 312968477927,\n",
      "                    \"percent_change_1h\": 0.71392940722934,\n",
      "                    \"percent_change_24h\": 7.88620558764018,\n",
      "                    \"percent_change_7d\": 16.5045919194881,\n",
      "                    \"percentage_change_1h\": 0.71392940722934,\n",
      "                    \"percentage_change_24h\": 7.88620558764018,\n",
      "                    \"percentage_change_7d\": 16.5045919194881,\n",
      "                    \"price\": 2707.9,\n",
      "                    \"volume_24h\": 38741469524\n",
      "                }\n",
      "            },\n",
      "            \"rank\": 2,\n",
      "            \"symbol\": \"ETH\",\n",
      "            \"total_supply\": 115648182,\n",
      "            \"website_slug\": \"ethereum\"\n",
      "        }\n",
      "    },\n",
      "    \"metadata\": {\n",
      "        \"error\": null,\n",
      "        \"num_cryptocurrencies\": 1311,\n",
      "        \"timestamp\": 1619574798\n",
      "    }\n",
      "}\n"
     ]
    }
   ],
   "source": [
    "# Using the Python requests library, make an API call to access the current price ETH\n",
    "eth_response = requests.get(eth_url).json()\n",
    "\n",
    "# Use the json.dumps function to review the response data from the API call\n",
    "# Use the indent and sort_keys parameters to make the response object readable\n",
    "# YOUR CODE HERE\n",
    "print(json.dumps(eth_response, indent=4, sort_keys=True))"
   ]
  },
  {
   "cell_type": "markdown",
   "metadata": {},
   "source": [
    "#### Step 3: Navigate the JSON response object to access the current price of each coin, and store each in a variable."
   ]
  },
  {
   "cell_type": "code",
   "execution_count": 8,
   "metadata": {},
   "outputs": [
    {
     "name": "stdout",
     "output_type": "stream",
     "text": [
      "The price for Bitcoin is $55588.0\n"
     ]
    }
   ],
   "source": [
    "# Navigate the BTC response object to access the current price of BTC\n",
    "btc_price = btc_response['data']['1']['quotes']['USD']['price']\n",
    "\n",
    "\n",
    "# Print the current price of BTC\n",
    "# YOUR CODE HERE\n",
    "print(f\"The price for Bitcoin is ${btc_price}\")"
   ]
  },
  {
   "cell_type": "code",
   "execution_count": 9,
   "metadata": {},
   "outputs": [
    {
     "name": "stdout",
     "output_type": "stream",
     "text": [
      "The price for the Ethereum is $2707.9\n"
     ]
    }
   ],
   "source": [
    "# Navigate the BTC response object to access the current price of ETH\n",
    "eth_price = eth_response['data']['1027']['quotes']['USD']['price']\n",
    "\n",
    "# Print the current price of ETH\n",
    "# YOUR CODE HERE\n",
    "print(f\"The price for the Ethereum is ${eth_price}\")"
   ]
  },
  {
   "cell_type": "markdown",
   "metadata": {},
   "source": [
    "### Step 4: Calculate the value, in US dollars, of the current amount of each cryptocurrency and of the entire cryptocurrency wallet."
   ]
  },
  {
   "cell_type": "code",
   "execution_count": 10,
   "metadata": {},
   "outputs": [
    {
     "name": "stdout",
     "output_type": "stream",
     "text": [
      "The current value of the Bitcoin holding is $66705.59999999999 \n"
     ]
    }
   ],
   "source": [
    "# Compute the current value of the BTC holding \n",
    "btc_value = btc_coins * btc_price # YOUR CODE HERE\n",
    "\n",
    "# Print current value of your holding in BTC\n",
    "# YOUR CODE HERE\n",
    "print(f\"The current value of the Bitcoin holding is ${btc_value} \")"
   ]
  },
  {
   "cell_type": "code",
   "execution_count": 11,
   "metadata": {},
   "outputs": [
    {
     "name": "stdout",
     "output_type": "stream",
     "text": [
      "The current value of the Ethereum holding is $14351.87 \n"
     ]
    }
   ],
   "source": [
    "# Compute the current value of the ETH holding \n",
    "eth_value = eth_coins * eth_price # YOUR CODE HERE\n",
    "\n",
    "# Print current value of your holding in ETH\n",
    "# YOUR CODE HERE\n",
    "print(f\"The current value of the Ethereum holding is ${eth_value} \")"
   ]
  },
  {
   "cell_type": "code",
   "execution_count": 12,
   "metadata": {},
   "outputs": [
    {
     "name": "stdout",
     "output_type": "stream",
     "text": [
      "The balance in your wallets is $81057.46999999999\n"
     ]
    }
   ],
   "source": [
    "# Compute the total value of the cryptocurrency wallet\n",
    "# Add the value of the BTC holding to the value of the ETH holding\n",
    "total_crypto_wallet = btc_value + eth_value # YOUR CODE HERE\n",
    "\n",
    "# Print current cryptocurrency wallet balance\n",
    "# YOUR CODE HERE\n",
    "print(f\"The balance in your wallets is ${total_crypto_wallet}\")"
   ]
  },
  {
   "cell_type": "markdown",
   "metadata": {},
   "source": [
    "### Evaluate the Stock and Bond Holdings by Using the Alpaca SDK\n",
    "\n",
    "In this section, you’ll determine the current value of a member’s stock and bond holdings. You’ll make an API call to Alpaca via the Alpaca SDK to get the current closing prices of the SPDR S&P 500 ETF Trust (ticker: SPY) and of the iShares Core US Aggregate Bond ETF (ticker: AGG). For the prototype, assume that the member holds 110 shares of SPY, which represents the stock portion of their portfolio, and 200 shares of AGG, which represents the bond portion. To do all this, complete the following steps:\n",
    "\n",
    "1. In the `Starter_Code` folder, create an environment file (`.env`) to store the values of your Alpaca API key and Alpaca secret key.\n",
    "\n",
    "2. Set the variables for the Alpaca API and secret keys. Using the Alpaca SDK, create the Alpaca `tradeapi.REST` object. In this object, include the parameters for the Alpaca API key, the secret key, and the version number.\n",
    "\n",
    "3. Set the following parameters for the Alpaca API call:\n",
    "\n",
    "    - `tickers`: Use the tickers for the member’s stock and bond holdings.\n",
    "\n",
    "    - `timeframe`: Use a time frame of one day.\n",
    "\n",
    "    - `start_date` and `end_date`: Use the same date for these parameters, and format them with the date of the previous weekday (or `2020-08-07`). This is because you want the one closing price for the most-recent trading day.\n",
    "\n",
    "4. Get the current closing prices for `SPY` and `AGG` by using the Alpaca `get_barset` function. Format the response as a Pandas DataFrame by including the `df` property at the end of the `get_barset` function.\n",
    "\n",
    "5. Navigating the Alpaca response DataFrame, select the `SPY` and `AGG` closing prices, and store them as variables.\n",
    "\n",
    "6. Calculate the value, in US dollars, of the current amount of shares in each of the stock and bond portions of the portfolio, and print the results.\n"
   ]
  },
  {
   "cell_type": "markdown",
   "metadata": {},
   "source": [
    "#### Review the total number of shares held in both (SPY) and (AGG)."
   ]
  },
  {
   "cell_type": "code",
   "execution_count": 13,
   "metadata": {},
   "outputs": [],
   "source": [
    "# Current amount of shares held in both the stock (SPY) and bond (AGG) portion of the portfolio.\n",
    "spy_shares = 110\n",
    "agg_shares = 200\n"
   ]
  },
  {
   "cell_type": "markdown",
   "metadata": {},
   "source": [
    "#### Step 1: In the `Starter_Code` folder, create an environment file (`.env`) to store the values of your Alpaca API key and Alpaca secret key."
   ]
  },
  {
   "cell_type": "markdown",
   "metadata": {},
   "source": [
    "#### Step 2: Set the variables for the Alpaca API and secret keys. Using the Alpaca SDK, create the Alpaca `tradeapi.REST` object. In this object, include the parameters for the Alpaca API key, the secret key, and the version number."
   ]
  },
  {
   "cell_type": "code",
   "execution_count": 14,
   "metadata": {},
   "outputs": [],
   "source": [
    "# Set the variables for the Alpaca API and secret keys\n",
    "alpaca_api_key = os.getenv(\"ALPACA_API_KEY\")\n",
    "alpaca_secret_key = os.getenv(\"ALPACA_SECRET_KEY\")\n",
    "\n",
    "# YOUR CODE HERE\n",
    "# YOUR CODE HERE\n",
    "\n",
    "# Create the Alpaca tradeapi.REST object\n",
    "# YOUR CODE HERE\n",
    "\n",
    "alpaca = tradeapi.REST(\n",
    "    alpaca_api_key,\n",
    "    alpaca_secret_key,\n",
    "    api_version = \"v2\")"
   ]
  },
  {
   "cell_type": "markdown",
   "metadata": {},
   "source": [
    "#### Step 3: Set the following parameters for the Alpaca API call:\n",
    "\n",
    "- `tickers`: Use the tickers for the member’s stock and bond holdings.\n",
    "\n",
    "- `timeframe`: Use a time frame of one day.\n",
    "\n",
    "- `start_date` and `end_date`: Use the same date for these parameters, and format them with the date of the previous weekday (or `2020-08-07`). This is because you want the one closing price for the most-recent trading day.\n"
   ]
  },
  {
   "cell_type": "code",
   "execution_count": 15,
   "metadata": {},
   "outputs": [],
   "source": [
    "# Set the tickers for both the bond and stock portion of the portfolio\n",
    "# YOUR CODE HERE\n",
    "tickers = [\"SPY\",\"AGG\"]\n",
    "\n",
    "# Set timeframe to 1D \n",
    "# YOUR CODE HERE\n",
    "timeframe = \"1D\"\n",
    "\n",
    "# Format current date as ISO format\n",
    "# Set both the start and end date at the date of your prior weekday \n",
    "# This will give you the closing price of the previous trading day\n",
    "# Alternatively you can use a start and end date of 2020-08-07\n",
    "# YOUR CODE HERE\n",
    "# YOUR CODE HERE\n",
    "start_date = pd.Timestamp(\"2020-08-07\", tz=\"America/New_York\").isoformat()\n",
    "end_date = pd.Timestamp(\"2020-08-07\", tz=\"America/New_York\").isoformat()\n"
   ]
  },
  {
   "cell_type": "markdown",
   "metadata": {},
   "source": [
    "#### Step 4: Get the current closing prices for `SPY` and `AGG` by using the Alpaca `get_barset` function. Format the response as a Pandas DataFrame by including the `df` property at the end of the `get_barset` function."
   ]
  },
  {
   "cell_type": "code",
   "execution_count": 16,
   "metadata": {},
   "outputs": [
    {
     "data": {
      "text/html": [
       "<div>\n",
       "<style scoped>\n",
       "    .dataframe tbody tr th:only-of-type {\n",
       "        vertical-align: middle;\n",
       "    }\n",
       "\n",
       "    .dataframe tbody tr th {\n",
       "        vertical-align: top;\n",
       "    }\n",
       "\n",
       "    .dataframe thead tr th {\n",
       "        text-align: left;\n",
       "    }\n",
       "\n",
       "    .dataframe thead tr:last-of-type th {\n",
       "        text-align: right;\n",
       "    }\n",
       "</style>\n",
       "<table border=\"1\" class=\"dataframe\">\n",
       "  <thead>\n",
       "    <tr>\n",
       "      <th></th>\n",
       "      <th colspan=\"5\" halign=\"left\">AGG</th>\n",
       "      <th colspan=\"5\" halign=\"left\">SPY</th>\n",
       "    </tr>\n",
       "    <tr>\n",
       "      <th></th>\n",
       "      <th>open</th>\n",
       "      <th>high</th>\n",
       "      <th>low</th>\n",
       "      <th>close</th>\n",
       "      <th>volume</th>\n",
       "      <th>open</th>\n",
       "      <th>high</th>\n",
       "      <th>low</th>\n",
       "      <th>close</th>\n",
       "      <th>volume</th>\n",
       "    </tr>\n",
       "    <tr>\n",
       "      <th>time</th>\n",
       "      <th></th>\n",
       "      <th></th>\n",
       "      <th></th>\n",
       "      <th></th>\n",
       "      <th></th>\n",
       "      <th></th>\n",
       "      <th></th>\n",
       "      <th></th>\n",
       "      <th></th>\n",
       "      <th></th>\n",
       "    </tr>\n",
       "  </thead>\n",
       "  <tbody>\n",
       "    <tr>\n",
       "      <th>2020-08-07 00:00:00-04:00</th>\n",
       "      <td>119.66</td>\n",
       "      <td>119.73</td>\n",
       "      <td>119.395</td>\n",
       "      <td>119.445</td>\n",
       "      <td>8830420</td>\n",
       "      <td>333.28</td>\n",
       "      <td>334.88</td>\n",
       "      <td>332.3</td>\n",
       "      <td>334.55</td>\n",
       "      <td>98710236</td>\n",
       "    </tr>\n",
       "  </tbody>\n",
       "</table>\n",
       "</div>"
      ],
      "text/plain": [
       "                              AGG                                        SPY  \\\n",
       "                             open    high      low    close   volume    open   \n",
       "time                                                                           \n",
       "2020-08-07 00:00:00-04:00  119.66  119.73  119.395  119.445  8830420  333.28   \n",
       "\n",
       "                                                            \n",
       "                             high    low   close    volume  \n",
       "time                                                        \n",
       "2020-08-07 00:00:00-04:00  334.88  332.3  334.55  98710236  "
      ]
     },
     "execution_count": 16,
     "metadata": {},
     "output_type": "execute_result"
    }
   ],
   "source": [
    "# Use the Alpaca get_barset function to get current closing prices the portfolio\n",
    "# Be sure to set the `df` property after the function to format the response object as a DataFrame\n",
    "# YOUR CODE HERE\n",
    "prices_df = alpaca.get_barset(\n",
    "    tickers,\n",
    "    timeframe,\n",
    "    start = start_date,\n",
    "    end = end_date\n",
    ").df\n",
    "\n",
    "# Review the first 5 rows of the Alpaca DataFrame\n",
    "# YOUR CODE HERE\n",
    "prices_df.head()"
   ]
  },
  {
   "cell_type": "markdown",
   "metadata": {},
   "source": [
    "#### Step 5: Navigating the Alpaca response DataFrame, select the `SPY` and `AGG` closing prices, and store them as variables."
   ]
  },
  {
   "cell_type": "code",
   "execution_count": 17,
   "metadata": {},
   "outputs": [
    {
     "name": "stdout",
     "output_type": "stream",
     "text": [
      "The closing price for AGG is $119.445\n"
     ]
    }
   ],
   "source": [
    "# Access the closing price for AGG from the Alpaca DataFrame\n",
    "# Converting the value to a floating point number\n",
    "agg_close_price = prices_df[\"AGG\"][\"close\"][0]  \n",
    "\n",
    "# Print the AGG closing price\n",
    "# YOUR CODE HERE\n",
    "print(f\"The closing price for AGG is ${agg_close_price}\")"
   ]
  },
  {
   "cell_type": "code",
   "execution_count": 18,
   "metadata": {},
   "outputs": [
    {
     "name": "stdout",
     "output_type": "stream",
     "text": [
      "The closing price for SPY is $334.55\n"
     ]
    }
   ],
   "source": [
    "# Access the closing price for SPY from the Alpaca DataFrame\n",
    "# Converting the value to a floating point number\n",
    "spy_close_price = prices_df[\"SPY\"][\"close\"][0]  \n",
    " # YOUR CODE HERE\n",
    "\n",
    "# Print the SPY closing price\n",
    "# YOUR CODE HERE\n",
    "print(f\"The closing price for SPY is ${spy_close_price}\")"
   ]
  },
  {
   "cell_type": "markdown",
   "metadata": {},
   "source": [
    "#### Step 6: Calculate the value, in US dollars, of the current amount of shares in each of the stock and bond portions of the portfolio, and print the results."
   ]
  },
  {
   "cell_type": "code",
   "execution_count": 19,
   "metadata": {},
   "outputs": [
    {
     "name": "stdout",
     "output_type": "stream",
     "text": [
      "The current value of your bond portion of the portflio is $23889.0\n"
     ]
    }
   ],
   "source": [
    "# Calculate the current value of the bond portion of the portfolio\n",
    "agg_value = agg_close_price * agg_shares # YOUR CODE HERE\n",
    "\n",
    "# Print the current value of the bond portfolio\n",
    "# YOUR CODE HERE\n",
    "print(f\"The current value of your bond portion of the portflio is ${agg_value}\")\n"
   ]
  },
  {
   "cell_type": "code",
   "execution_count": 20,
   "metadata": {},
   "outputs": [
    {
     "name": "stdout",
     "output_type": "stream",
     "text": [
      "The current value of your stock portfolio is $36800.5\n"
     ]
    }
   ],
   "source": [
    "# Calculate the current value of the stock portion of the portfolio\n",
    "spy_value = spy_close_price * spy_shares # YOUR CODE HERE\n",
    "\n",
    "# Print the current value of the stock portfolio\n",
    "# YOUR CODE HERE\n",
    "print(f\"The current value of your stock portfolio is ${spy_value}\")"
   ]
  },
  {
   "cell_type": "code",
   "execution_count": 21,
   "metadata": {},
   "outputs": [
    {
     "name": "stdout",
     "output_type": "stream",
     "text": [
      "The current balance of the stock and bond portion of the portfolio is $60689.5\n"
     ]
    }
   ],
   "source": [
    "# Calculate the total value of the stock and bond portion of the portfolio\n",
    "total_stocks_bonds = agg_value + spy_value # YOUR CODE HERE\n",
    "\n",
    "# Print the current balance of the stock and bond portion of the portfolio\n",
    "# YOUR CODE HERE\n",
    "print(f'The current balance of the stock and bond portion of the portfolio is ${total_stocks_bonds}')\n"
   ]
  },
  {
   "cell_type": "code",
   "execution_count": 22,
   "metadata": {},
   "outputs": [
    {
     "name": "stdout",
     "output_type": "stream",
     "text": [
      "The total value of the member's entire savings portfolio is $141746.96999999997\n"
     ]
    }
   ],
   "source": [
    "# Calculate the total value of the member's entire savings portfolio\n",
    "# Add the value of the cryptocurrency walled to the value of the total stocks and bonds\n",
    "total_portfolio = total_crypto_wallet + total_stocks_bonds# YOUR CODE HERE\n",
    "\n",
    "# Print current cryptocurrency wallet balance\n",
    "# YOUR CODE HERE\n",
    "print(f\"The total value of the member's entire savings portfolio is ${total_portfolio}\")"
   ]
  },
  {
   "cell_type": "markdown",
   "metadata": {},
   "source": [
    "### Evaluate the Emergency Fund\n",
    "\n",
    "In this section, you’ll use the valuations for the cryptocurrency wallet and for the stock and bond portions of the portfolio to determine if the credit union member has enough savings to build an emergency fund into their financial plan. To do this, complete the following steps:\n",
    "\n",
    "1. Create a Python list named `savings_data` that has two elements. The first element contains the total value of the cryptocurrency wallet. The second element contains the total value of the stock and bond portions of the portfolio.\n",
    "\n",
    "2. Use the `savings_data` list to create a Pandas DataFrame named `savings_df`, and then display this DataFrame. The function to create the DataFrame should take the following three parameters:\n",
    "\n",
    "    - `savings_data`: Use the list that you just created.\n",
    "\n",
    "    - `columns`: Set this parameter equal to a Python list with a single value called `amount`.\n",
    "\n",
    "    - `index`: Set this parameter equal to a Python list with the values of `crypto` and `stock/bond`.\n",
    "\n",
    "3. Use the `savings_df` DataFrame to plot a pie chart that visualizes the composition of the member’s portfolio. The y-axis of the pie chart uses `amount`. Be sure to add a title.\n",
    "\n",
    "4. Using Python, determine if the current portfolio has enough to create an emergency fund as part of the member’s financial plan. Ideally, an emergency fund should equal to three times the member’s monthly income. To do this, implement the following steps:\n",
    "\n",
    "    1. Create a variable named `emergency_fund_value`, and set it equal to three times the value of the member’s `monthly_income` of $12000. (You set this earlier in Part 1).\n",
    "\n",
    "    2. Create a series of three if statements to determine if the member’s total portfolio is large enough to fund the emergency portfolio:\n",
    "\n",
    "        1. If the total portfolio value is greater than the emergency fund value, display a message congratulating the member for having enough money in this fund.\n",
    "\n",
    "        2. Else if the total portfolio value is equal to the emergency fund value, display a message congratulating the member on reaching this important financial goal.\n",
    "\n",
    "        3. Else the total portfolio is less than the emergency fund value, so display a message showing how many dollars away the member is from reaching the goal. (Subtract the total portfolio value from the emergency fund value.)\n"
   ]
  },
  {
   "cell_type": "markdown",
   "metadata": {},
   "source": [
    "#### Step 1: Create a Python list named `savings_data` that has two elements. The first element contains the total value of the cryptocurrency wallet. The second element contains the total value of the stock and bond portions of the portfolio."
   ]
  },
  {
   "cell_type": "code",
   "execution_count": 23,
   "metadata": {},
   "outputs": [
    {
     "name": "stdout",
     "output_type": "stream",
     "text": [
      "[81057.46999999999, 60689.5]\n"
     ]
    }
   ],
   "source": [
    "# Consolidate financial assets data into a Python list\n",
    "# YOUR CODE HERE\n",
    "savings_data = [total_crypto_wallet, total_stocks_bonds]\n",
    "\n",
    "# Review the Python list savings_data\n",
    "# YOUR CODE HERE\n",
    "print(savings_data)"
   ]
  },
  {
   "cell_type": "markdown",
   "metadata": {},
   "source": [
    "#### Step 2: Use the `savings_data` list to create a Pandas DataFrame named `savings_df`, and then display this DataFrame. The function to create the DataFrame should take the following three parameters:\n",
    "\n",
    "- `savings_data`: Use the list that you just created.\n",
    "\n",
    "- `columns`: Set this parameter equal to a Python list with a single value called `amount`.\n",
    "\n",
    "- `index`: Set this parameter equal to a Python list with the values of `crypto` and `stock/bond`.\n"
   ]
  },
  {
   "cell_type": "code",
   "execution_count": 24,
   "metadata": {},
   "outputs": [
    {
     "name": "stdout",
     "output_type": "stream",
     "text": [
      "              amount\n",
      "crypto      81057.47\n",
      "stock/bond  60689.50\n"
     ]
    }
   ],
   "source": [
    "# Create a Pandas DataFrame called savings_df \n",
    "# YOUR CODE HERE\n",
    "savings_df = pd.DataFrame(savings_data, columns = [\"amount\"], index=[\"crypto\", \"stock/bond\"])\n",
    "# Display the savings_df DataFrame \n",
    "# YOUR CODE HERE\n",
    "print(savings_df)"
   ]
  },
  {
   "cell_type": "markdown",
   "metadata": {},
   "source": [
    "#### Step 3: Use the `savings_df` DataFrame to plot a pie chart that visualizes the composition of the member’s portfolio. The y-axis of the pie chart uses `amount`. Be sure to add a title."
   ]
  },
  {
   "cell_type": "code",
   "execution_count": 25,
   "metadata": {},
   "outputs": [
    {
     "data": {
      "text/plain": [
       "<AxesSubplot:title={'center':\"Value of the member's portfolio\"}, ylabel='amount'>"
      ]
     },
     "execution_count": 25,
     "metadata": {},
     "output_type": "execute_result"
    },
    {
     "data": {
      "image/png": "[encoded data removed]",
      "text/plain": [
       "<Figure size 432x288 with 1 Axes>"
      ]
     },
     "metadata": {},
     "output_type": "display_data"
    }
   ],
   "source": [
    "# Plot the total value of the member's portfolio (crypto and stock/bond) in a pie chart\n",
    "# YOUR CODE HERE\n",
    "savings_df.plot.pie(y=\"amount\", title=\"Value of the member's portfolio\")\n"
   ]
  },
  {
   "cell_type": "markdown",
   "metadata": {},
   "source": [
    "#### Step 4: Using Python, determine if the current portfolio has enough to create an emergency fund as part of the member’s financial plan. Ideally, an emergency fund should equal to three times the member’s monthly income. To do this, implement the following steps:\n",
    "\n",
    "Step 1. Create a variable named `emergency_fund_value`, and set it equal to three times the value of the member’s `monthly_income` of 12000. (You set this earlier in Part 1).\n",
    "\n",
    "Step 2. Create a series of three if statements to determine if the member’s total portfolio is large enough to fund the emergency portfolio:\n",
    "\n",
    "* If the total portfolio value is greater than the emergency fund value, display a message congratulating the member for having enough money in this fund.\n",
    "\n",
    "* Else if the total portfolio value is equal to the emergency fund value, display a message congratulating the member on reaching this important financial goal.\n",
    "\n",
    "* Else the total portfolio is less than the emergency fund value, so display a message showing how many dollars away the member is from reaching the goal. (Subtract the total portfolio value from the emergency fund value.)\n"
   ]
  },
  {
   "cell_type": "markdown",
   "metadata": {},
   "source": [
    "##### Step 4-1: Create a variable named `emergency_fund_value`, and set it equal to three times the value of the member’s `monthly_income` of 12000. (You set this earlier in Part 1)."
   ]
  },
  {
   "cell_type": "code",
   "execution_count": 26,
   "metadata": {},
   "outputs": [
    {
     "data": {
      "text/plain": [
       "36000"
      ]
     },
     "execution_count": 26,
     "metadata": {},
     "output_type": "execute_result"
    }
   ],
   "source": [
    "# Create a variable named emergency_fund_value\n",
    "# YOUR CODE HERE\n",
    "emergency_fund_value = 3*monthly_income\n",
    "emergency_fund_value"
   ]
  },
  {
   "cell_type": "markdown",
   "metadata": {},
   "source": [
    "##### Step 4-2: Create a series of three if statements to determine if the member’s total portfolio is large enough to fund the emergency portfolio:\n",
    "\n",
    "* If the total portfolio value is greater than the emergency fund value, display a message congratulating the member for having enough money in this fund.\n",
    "\n",
    "* Else if the total portfolio value is equal to the emergency fund value, display a message congratulating the member on reaching this important financial goal.\n",
    "\n",
    "* Else the total portfolio is less than the emergency fund value, so display a message showing how many dollars away the member is from reaching the goal. (Subtract the total portfolio value from the emergency fund value.)"
   ]
  },
  {
   "cell_type": "code",
   "execution_count": 27,
   "metadata": {},
   "outputs": [
    {
     "name": "stdout",
     "output_type": "stream",
     "text": [
      "Congratulations you have enough money in this fund\n"
     ]
    }
   ],
   "source": [
    "# Evaluate the possibility of creating an emergency fund with 3 conditions:\n",
    "# YOUR CODE HERE\n",
    "# YOUR CODE HERE\n",
    "# YOUR CODE HERE\n",
    "amount_of_money_missing = total_portfolio - emergency_fund_value\n",
    "\n",
    "if total_portfolio > emergency_fund_value:\n",
    "    print(\"Congratulations you have enough money in this fund\")\n",
    "elif total_portfolio == emergency_fund_value:\n",
    "    print(\"Congratulations you have riched an important financial goal\")\n",
    "else: \n",
    "    print(f\"So sorry but you do not enough money yet, you are still missing ${amount_of_money_missing}\")"
   ]
  },
  {
   "cell_type": "markdown",
   "metadata": {},
   "source": [
    "## Part 2: Create a Financial Planner for Retirement"
   ]
  },
  {
   "cell_type": "markdown",
   "metadata": {},
   "source": [
    "### Create the Monte Carlo Simulation\n",
    "\n",
    "In this section, you’ll use the MCForecastTools library to create a Monte Carlo simulation for the member’s savings portfolio. To do this, complete the following steps:\n",
    "\n",
    "1. Make an API call via the Alpaca SDK to get 10 years of historical closing prices for a traditional 60/40 portfolio split: 60% stocks (SPY) and 40% bonds (AGG).\n",
    "\n",
    "2. Run a Monte Carlo simulation of 500 samples and 30 years for the 60/40 portfolio, and then plot the results.The following image shows the overlay line plot resulting from a simulation with these characteristics. However, because a random number generator is used to run each live Monte Carlo simulation, your image will differ slightly from this exact image:\n",
    "\n",
    "![A screenshot depicts the resulting plot.](Images/5-4-monte-carlo-line-plot.png)\n",
    "\n",
    "3. Plot the probability distribution of the Monte Carlo simulation. Plot the probability distribution of the Monte Carlo simulation. The following image shows the histogram plot resulting from a simulation with these characteristics. However, because a random number generator is used to run each live Monte Carlo simulation, your image will differ slightly from this exact image:\n",
    "\n",
    "![A screenshot depicts the histogram plot.](Images/5-4-monte-carlo-histogram.png)\n",
    "\n",
    "4. Generate the summary statistics for the Monte Carlo simulation.\n",
    "\n"
   ]
  },
  {
   "cell_type": "markdown",
   "metadata": {},
   "source": [
    "#### Step 1: Make an API call via the Alpaca SDK to get 10 years of historical closing prices for a traditional 60/40 portfolio split: 60% stocks (SPY) and 40% bonds (AGG)."
   ]
  },
  {
   "cell_type": "code",
   "execution_count": 28,
   "metadata": {},
   "outputs": [],
   "source": [
    "# Set start and end dates of 10 years back from your current date\n",
    "# Alternatively, you can use an end date of 2020-08-07 and work 10 years back from that date \n",
    "# YOUR CODE HERE\n",
    "# YOUR CODE HERE\n",
    "tickers = [\"SPY\", \"AGG\"]\n",
    "timeframe = \"1D\"\n",
    "start_date = pd.Timestamp(\"2011-04-27\", tz=\"America/New_York\").isoformat\n",
    "end_date =  pd.Timestamp(\"2021-04-27\", tz=\"America/New_York\").isoformat"
   ]
  },
  {
   "cell_type": "code",
   "execution_count": 29,
   "metadata": {},
   "outputs": [
    {
     "data": {
      "text/html": [
       "<div>\n",
       "<style scoped>\n",
       "    .dataframe tbody tr th:only-of-type {\n",
       "        vertical-align: middle;\n",
       "    }\n",
       "\n",
       "    .dataframe tbody tr th {\n",
       "        vertical-align: top;\n",
       "    }\n",
       "\n",
       "    .dataframe thead tr th {\n",
       "        text-align: left;\n",
       "    }\n",
       "\n",
       "    .dataframe thead tr:last-of-type th {\n",
       "        text-align: right;\n",
       "    }\n",
       "</style>\n",
       "<table border=\"1\" class=\"dataframe\">\n",
       "  <thead>\n",
       "    <tr>\n",
       "      <th></th>\n",
       "      <th colspan=\"5\" halign=\"left\">AGG</th>\n",
       "      <th colspan=\"5\" halign=\"left\">SPY</th>\n",
       "    </tr>\n",
       "    <tr>\n",
       "      <th></th>\n",
       "      <th>open</th>\n",
       "      <th>high</th>\n",
       "      <th>low</th>\n",
       "      <th>close</th>\n",
       "      <th>volume</th>\n",
       "      <th>open</th>\n",
       "      <th>high</th>\n",
       "      <th>low</th>\n",
       "      <th>close</th>\n",
       "      <th>volume</th>\n",
       "    </tr>\n",
       "    <tr>\n",
       "      <th>time</th>\n",
       "      <th></th>\n",
       "      <th></th>\n",
       "      <th></th>\n",
       "      <th></th>\n",
       "      <th></th>\n",
       "      <th></th>\n",
       "      <th></th>\n",
       "      <th></th>\n",
       "      <th></th>\n",
       "      <th></th>\n",
       "    </tr>\n",
       "  </thead>\n",
       "  <tbody>\n",
       "    <tr>\n",
       "      <th>2020-12-02 00:00:00-05:00</th>\n",
       "      <td>117.81</td>\n",
       "      <td>117.8100</td>\n",
       "      <td>117.5400</td>\n",
       "      <td>117.705</td>\n",
       "      <td>5554915</td>\n",
       "      <td>364.82</td>\n",
       "      <td>366.96</td>\n",
       "      <td>364.20</td>\n",
       "      <td>366.7599</td>\n",
       "      <td>37323404</td>\n",
       "    </tr>\n",
       "    <tr>\n",
       "      <th>2020-12-03 00:00:00-05:00</th>\n",
       "      <td>117.92</td>\n",
       "      <td>117.9800</td>\n",
       "      <td>117.7650</td>\n",
       "      <td>117.910</td>\n",
       "      <td>5210910</td>\n",
       "      <td>366.68</td>\n",
       "      <td>368.19</td>\n",
       "      <td>365.50</td>\n",
       "      <td>366.6698</td>\n",
       "      <td>52905586</td>\n",
       "    </tr>\n",
       "    <tr>\n",
       "      <th>2020-12-04 00:00:00-05:00</th>\n",
       "      <td>117.90</td>\n",
       "      <td>117.9000</td>\n",
       "      <td>117.5133</td>\n",
       "      <td>117.580</td>\n",
       "      <td>4821820</td>\n",
       "      <td>367.32</td>\n",
       "      <td>369.85</td>\n",
       "      <td>367.22</td>\n",
       "      <td>369.8300</td>\n",
       "      <td>40264568</td>\n",
       "    </tr>\n",
       "    <tr>\n",
       "      <th>2020-12-07 00:00:00-05:00</th>\n",
       "      <td>117.76</td>\n",
       "      <td>117.8262</td>\n",
       "      <td>117.6900</td>\n",
       "      <td>117.750</td>\n",
       "      <td>4689469</td>\n",
       "      <td>369.02</td>\n",
       "      <td>369.62</td>\n",
       "      <td>367.72</td>\n",
       "      <td>369.1200</td>\n",
       "      <td>40456544</td>\n",
       "    </tr>\n",
       "    <tr>\n",
       "      <th>2020-12-08 00:00:00-05:00</th>\n",
       "      <td>117.88</td>\n",
       "      <td>117.9597</td>\n",
       "      <td>117.7500</td>\n",
       "      <td>117.770</td>\n",
       "      <td>3587353</td>\n",
       "      <td>367.72</td>\n",
       "      <td>370.78</td>\n",
       "      <td>367.67</td>\n",
       "      <td>370.1599</td>\n",
       "      <td>32702217</td>\n",
       "    </tr>\n",
       "  </tbody>\n",
       "</table>\n",
       "</div>"
      ],
      "text/plain": [
       "                              AGG                                        \\\n",
       "                             open      high       low    close   volume   \n",
       "time                                                                      \n",
       "2020-12-02 00:00:00-05:00  117.81  117.8100  117.5400  117.705  5554915   \n",
       "2020-12-03 00:00:00-05:00  117.92  117.9800  117.7650  117.910  5210910   \n",
       "2020-12-04 00:00:00-05:00  117.90  117.9000  117.5133  117.580  4821820   \n",
       "2020-12-07 00:00:00-05:00  117.76  117.8262  117.6900  117.750  4689469   \n",
       "2020-12-08 00:00:00-05:00  117.88  117.9597  117.7500  117.770  3587353   \n",
       "\n",
       "                              SPY                                      \n",
       "                             open    high     low     close    volume  \n",
       "time                                                                   \n",
       "2020-12-02 00:00:00-05:00  364.82  366.96  364.20  366.7599  37323404  \n",
       "2020-12-03 00:00:00-05:00  366.68  368.19  365.50  366.6698  52905586  \n",
       "2020-12-04 00:00:00-05:00  367.32  369.85  367.22  369.8300  40264568  \n",
       "2020-12-07 00:00:00-05:00  369.02  369.62  367.72  369.1200  40456544  \n",
       "2020-12-08 00:00:00-05:00  367.72  370.78  367.67  370.1599  32702217  "
      ]
     },
     "metadata": {},
     "output_type": "display_data"
    },
    {
     "data": {
      "text/html": [
       "<div>\n",
       "<style scoped>\n",
       "    .dataframe tbody tr th:only-of-type {\n",
       "        vertical-align: middle;\n",
       "    }\n",
       "\n",
       "    .dataframe tbody tr th {\n",
       "        vertical-align: top;\n",
       "    }\n",
       "\n",
       "    .dataframe thead tr th {\n",
       "        text-align: left;\n",
       "    }\n",
       "\n",
       "    .dataframe thead tr:last-of-type th {\n",
       "        text-align: right;\n",
       "    }\n",
       "</style>\n",
       "<table border=\"1\" class=\"dataframe\">\n",
       "  <thead>\n",
       "    <tr>\n",
       "      <th></th>\n",
       "      <th colspan=\"5\" halign=\"left\">AGG</th>\n",
       "      <th colspan=\"5\" halign=\"left\">SPY</th>\n",
       "    </tr>\n",
       "    <tr>\n",
       "      <th></th>\n",
       "      <th>open</th>\n",
       "      <th>high</th>\n",
       "      <th>low</th>\n",
       "      <th>close</th>\n",
       "      <th>volume</th>\n",
       "      <th>open</th>\n",
       "      <th>high</th>\n",
       "      <th>low</th>\n",
       "      <th>close</th>\n",
       "      <th>volume</th>\n",
       "    </tr>\n",
       "    <tr>\n",
       "      <th>time</th>\n",
       "      <th></th>\n",
       "      <th></th>\n",
       "      <th></th>\n",
       "      <th></th>\n",
       "      <th></th>\n",
       "      <th></th>\n",
       "      <th></th>\n",
       "      <th></th>\n",
       "      <th></th>\n",
       "      <th></th>\n",
       "    </tr>\n",
       "  </thead>\n",
       "  <tbody>\n",
       "    <tr>\n",
       "      <th>2021-04-21 00:00:00-04:00</th>\n",
       "      <td>114.60</td>\n",
       "      <td>114.7400</td>\n",
       "      <td>114.5300</td>\n",
       "      <td>114.74</td>\n",
       "      <td>5250384</td>\n",
       "      <td>411.51</td>\n",
       "      <td>416.29</td>\n",
       "      <td>411.3600</td>\n",
       "      <td>416.08</td>\n",
       "      <td>54772634</td>\n",
       "    </tr>\n",
       "    <tr>\n",
       "      <th>2021-04-22 00:00:00-04:00</th>\n",
       "      <td>114.74</td>\n",
       "      <td>114.8000</td>\n",
       "      <td>114.5900</td>\n",
       "      <td>114.77</td>\n",
       "      <td>3518947</td>\n",
       "      <td>415.88</td>\n",
       "      <td>416.78</td>\n",
       "      <td>411.1300</td>\n",
       "      <td>412.30</td>\n",
       "      <td>90086341</td>\n",
       "    </tr>\n",
       "    <tr>\n",
       "      <th>2021-04-23 00:00:00-04:00</th>\n",
       "      <td>114.81</td>\n",
       "      <td>115.0860</td>\n",
       "      <td>114.6415</td>\n",
       "      <td>114.75</td>\n",
       "      <td>3506457</td>\n",
       "      <td>412.87</td>\n",
       "      <td>418.25</td>\n",
       "      <td>412.7900</td>\n",
       "      <td>416.72</td>\n",
       "      <td>62184753</td>\n",
       "    </tr>\n",
       "    <tr>\n",
       "      <th>2021-04-26 00:00:00-04:00</th>\n",
       "      <td>114.74</td>\n",
       "      <td>114.8015</td>\n",
       "      <td>114.6500</td>\n",
       "      <td>114.65</td>\n",
       "      <td>2867784</td>\n",
       "      <td>417.44</td>\n",
       "      <td>418.22</td>\n",
       "      <td>416.8111</td>\n",
       "      <td>417.64</td>\n",
       "      <td>44689009</td>\n",
       "    </tr>\n",
       "    <tr>\n",
       "      <th>2021-04-27 00:00:00-04:00</th>\n",
       "      <td>115.13</td>\n",
       "      <td>115.1300</td>\n",
       "      <td>114.3700</td>\n",
       "      <td>114.37</td>\n",
       "      <td>3421667</td>\n",
       "      <td>417.91</td>\n",
       "      <td>418.14</td>\n",
       "      <td>416.3000</td>\n",
       "      <td>417.48</td>\n",
       "      <td>45962655</td>\n",
       "    </tr>\n",
       "  </tbody>\n",
       "</table>\n",
       "</div>"
      ],
      "text/plain": [
       "                              AGG                                       \\\n",
       "                             open      high       low   close   volume   \n",
       "time                                                                     \n",
       "2021-04-21 00:00:00-04:00  114.60  114.7400  114.5300  114.74  5250384   \n",
       "2021-04-22 00:00:00-04:00  114.74  114.8000  114.5900  114.77  3518947   \n",
       "2021-04-23 00:00:00-04:00  114.81  115.0860  114.6415  114.75  3506457   \n",
       "2021-04-26 00:00:00-04:00  114.74  114.8015  114.6500  114.65  2867784   \n",
       "2021-04-27 00:00:00-04:00  115.13  115.1300  114.3700  114.37  3421667   \n",
       "\n",
       "                              SPY                                      \n",
       "                             open    high       low   close    volume  \n",
       "time                                                                   \n",
       "2021-04-21 00:00:00-04:00  411.51  416.29  411.3600  416.08  54772634  \n",
       "2021-04-22 00:00:00-04:00  415.88  416.78  411.1300  412.30  90086341  \n",
       "2021-04-23 00:00:00-04:00  412.87  418.25  412.7900  416.72  62184753  \n",
       "2021-04-26 00:00:00-04:00  417.44  418.22  416.8111  417.64  44689009  \n",
       "2021-04-27 00:00:00-04:00  417.91  418.14  416.3000  417.48  45962655  "
      ]
     },
     "metadata": {},
     "output_type": "display_data"
    }
   ],
   "source": [
    "# Use the Alpaca get_barset function to make the API call to get the 10 years worth of pricing data\n",
    "# The tickers and timeframe parameters should have been set in Part 1 of this activity \n",
    "# The start and end dates should be updated with the information set above\n",
    "# Remember to add the df property to the end of the call so the response is returned as a DataFrame\n",
    "# YOUR CODE HERE\n",
    "\n",
    "ten_years_prices_df = alpaca.get_barset(\n",
    "    tickers,\n",
    "    timeframe,\n",
    "    start = start_date,\n",
    "    end = end_date\n",
    ").df\n",
    "\n",
    "# Display both the first and last five rows of the DataFrame\n",
    "# YOUR CODE HERE\n",
    "# YOUR CODE HERE\n",
    "display(ten_years_prices_df.head())\n",
    "display(ten_years_prices_df.tail())"
   ]
  },
  {
   "cell_type": "markdown",
   "metadata": {},
   "source": [
    "#### Step 2: Run a Monte Carlo simulation of 500 samples and 30 years for the 60/40 portfolio, and then plot the results."
   ]
  },
  {
   "cell_type": "code",
   "execution_count": 30,
   "metadata": {},
   "outputs": [
    {
     "data": {
      "text/html": [
       "<div>\n",
       "<style scoped>\n",
       "    .dataframe tbody tr th:only-of-type {\n",
       "        vertical-align: middle;\n",
       "    }\n",
       "\n",
       "    .dataframe tbody tr th {\n",
       "        vertical-align: top;\n",
       "    }\n",
       "\n",
       "    .dataframe thead tr th {\n",
       "        text-align: left;\n",
       "    }\n",
       "\n",
       "    .dataframe thead tr:last-of-type th {\n",
       "        text-align: right;\n",
       "    }\n",
       "</style>\n",
       "<table border=\"1\" class=\"dataframe\">\n",
       "  <thead>\n",
       "    <tr>\n",
       "      <th></th>\n",
       "      <th colspan=\"6\" halign=\"left\">AGG</th>\n",
       "      <th colspan=\"6\" halign=\"left\">SPY</th>\n",
       "    </tr>\n",
       "    <tr>\n",
       "      <th></th>\n",
       "      <th>open</th>\n",
       "      <th>high</th>\n",
       "      <th>low</th>\n",
       "      <th>close</th>\n",
       "      <th>volume</th>\n",
       "      <th>daily_return</th>\n",
       "      <th>open</th>\n",
       "      <th>high</th>\n",
       "      <th>low</th>\n",
       "      <th>close</th>\n",
       "      <th>volume</th>\n",
       "      <th>daily_return</th>\n",
       "    </tr>\n",
       "    <tr>\n",
       "      <th>time</th>\n",
       "      <th></th>\n",
       "      <th></th>\n",
       "      <th></th>\n",
       "      <th></th>\n",
       "      <th></th>\n",
       "      <th></th>\n",
       "      <th></th>\n",
       "      <th></th>\n",
       "      <th></th>\n",
       "      <th></th>\n",
       "      <th></th>\n",
       "      <th></th>\n",
       "    </tr>\n",
       "  </thead>\n",
       "  <tbody>\n",
       "    <tr>\n",
       "      <th>2020-12-02 00:00:00-05:00</th>\n",
       "      <td>117.81</td>\n",
       "      <td>117.8100</td>\n",
       "      <td>117.5400</td>\n",
       "      <td>117.705</td>\n",
       "      <td>5554915</td>\n",
       "      <td>NaN</td>\n",
       "      <td>364.82</td>\n",
       "      <td>366.96</td>\n",
       "      <td>364.20</td>\n",
       "      <td>366.7599</td>\n",
       "      <td>37323404</td>\n",
       "      <td>NaN</td>\n",
       "    </tr>\n",
       "    <tr>\n",
       "      <th>2020-12-03 00:00:00-05:00</th>\n",
       "      <td>117.92</td>\n",
       "      <td>117.9800</td>\n",
       "      <td>117.7650</td>\n",
       "      <td>117.910</td>\n",
       "      <td>5210910</td>\n",
       "      <td>0.001742</td>\n",
       "      <td>366.68</td>\n",
       "      <td>368.19</td>\n",
       "      <td>365.50</td>\n",
       "      <td>366.6698</td>\n",
       "      <td>52905586</td>\n",
       "      <td>-0.000246</td>\n",
       "    </tr>\n",
       "    <tr>\n",
       "      <th>2020-12-04 00:00:00-05:00</th>\n",
       "      <td>117.90</td>\n",
       "      <td>117.9000</td>\n",
       "      <td>117.5133</td>\n",
       "      <td>117.580</td>\n",
       "      <td>4821820</td>\n",
       "      <td>-0.002799</td>\n",
       "      <td>367.32</td>\n",
       "      <td>369.85</td>\n",
       "      <td>367.22</td>\n",
       "      <td>369.8300</td>\n",
       "      <td>40264568</td>\n",
       "      <td>0.008619</td>\n",
       "    </tr>\n",
       "    <tr>\n",
       "      <th>2020-12-07 00:00:00-05:00</th>\n",
       "      <td>117.76</td>\n",
       "      <td>117.8262</td>\n",
       "      <td>117.6900</td>\n",
       "      <td>117.750</td>\n",
       "      <td>4689469</td>\n",
       "      <td>0.001446</td>\n",
       "      <td>369.02</td>\n",
       "      <td>369.62</td>\n",
       "      <td>367.72</td>\n",
       "      <td>369.1200</td>\n",
       "      <td>40456544</td>\n",
       "      <td>-0.001920</td>\n",
       "    </tr>\n",
       "    <tr>\n",
       "      <th>2020-12-08 00:00:00-05:00</th>\n",
       "      <td>117.88</td>\n",
       "      <td>117.9597</td>\n",
       "      <td>117.7500</td>\n",
       "      <td>117.770</td>\n",
       "      <td>3587353</td>\n",
       "      <td>0.000170</td>\n",
       "      <td>367.72</td>\n",
       "      <td>370.78</td>\n",
       "      <td>367.67</td>\n",
       "      <td>370.1599</td>\n",
       "      <td>32702217</td>\n",
       "      <td>0.002817</td>\n",
       "    </tr>\n",
       "  </tbody>\n",
       "</table>\n",
       "</div>"
      ],
      "text/plain": [
       "                              AGG                                        \\\n",
       "                             open      high       low    close   volume   \n",
       "time                                                                      \n",
       "2020-12-02 00:00:00-05:00  117.81  117.8100  117.5400  117.705  5554915   \n",
       "2020-12-03 00:00:00-05:00  117.92  117.9800  117.7650  117.910  5210910   \n",
       "2020-12-04 00:00:00-05:00  117.90  117.9000  117.5133  117.580  4821820   \n",
       "2020-12-07 00:00:00-05:00  117.76  117.8262  117.6900  117.750  4689469   \n",
       "2020-12-08 00:00:00-05:00  117.88  117.9597  117.7500  117.770  3587353   \n",
       "\n",
       "                                           SPY                            \\\n",
       "                          daily_return    open    high     low     close   \n",
       "time                                                                       \n",
       "2020-12-02 00:00:00-05:00          NaN  364.82  366.96  364.20  366.7599   \n",
       "2020-12-03 00:00:00-05:00     0.001742  366.68  368.19  365.50  366.6698   \n",
       "2020-12-04 00:00:00-05:00    -0.002799  367.32  369.85  367.22  369.8300   \n",
       "2020-12-07 00:00:00-05:00     0.001446  369.02  369.62  367.72  369.1200   \n",
       "2020-12-08 00:00:00-05:00     0.000170  367.72  370.78  367.67  370.1599   \n",
       "\n",
       "                                                  \n",
       "                             volume daily_return  \n",
       "time                                              \n",
       "2020-12-02 00:00:00-05:00  37323404          NaN  \n",
       "2020-12-03 00:00:00-05:00  52905586    -0.000246  \n",
       "2020-12-04 00:00:00-05:00  40264568     0.008619  \n",
       "2020-12-07 00:00:00-05:00  40456544    -0.001920  \n",
       "2020-12-08 00:00:00-05:00  32702217     0.002817  "
      ]
     },
     "execution_count": 30,
     "metadata": {},
     "output_type": "execute_result"
    }
   ],
   "source": [
    "# Configure the Monte Carlo simulation to forecast 30 years cumulative returns\n",
    "# The weights should be split 40% to AGG and 60% to SPY.\n",
    "# Run 500 samples.\n",
    "# YOUR CODE HERE\n",
    "MC_thirty_years = MCSimulation(\n",
    "    portfolio_data = ten_years_prices_df,\n",
    "    weights= [.60, .40],\n",
    "    num_simulation = 500,\n",
    "    num_trading_days = 252*30\n",
    ") \n",
    "\n",
    "# Review the simulation input data\n",
    "# YOUR CODE HERE\n",
    "MC_thirty_years.portfolio_data.head()"
   ]
  },
  {
   "cell_type": "code",
   "execution_count": 31,
   "metadata": {},
   "outputs": [
    {
     "name": "stdout",
     "output_type": "stream",
     "text": [
      "Running Monte Carlo simulation number 0.\n",
      "Running Monte Carlo simulation number 10.\n",
      "Running Monte Carlo simulation number 20.\n",
      "Running Monte Carlo simulation number 30.\n",
      "Running Monte Carlo simulation number 40.\n",
      "Running Monte Carlo simulation number 50.\n",
      "Running Monte Carlo simulation number 60.\n",
      "Running Monte Carlo simulation number 70.\n",
      "Running Monte Carlo simulation number 80.\n",
      "Running Monte Carlo simulation number 90.\n",
      "Running Monte Carlo simulation number 100.\n",
      "Running Monte Carlo simulation number 110.\n",
      "Running Monte Carlo simulation number 120.\n",
      "Running Monte Carlo simulation number 130.\n",
      "Running Monte Carlo simulation number 140.\n",
      "Running Monte Carlo simulation number 150.\n",
      "Running Monte Carlo simulation number 160.\n",
      "Running Monte Carlo simulation number 170.\n",
      "Running Monte Carlo simulation number 180.\n",
      "Running Monte Carlo simulation number 190.\n",
      "Running Monte Carlo simulation number 200.\n",
      "Running Monte Carlo simulation number 210.\n",
      "Running Monte Carlo simulation number 220.\n",
      "Running Monte Carlo simulation number 230.\n",
      "Running Monte Carlo simulation number 240.\n",
      "Running Monte Carlo simulation number 250.\n",
      "Running Monte Carlo simulation number 260.\n",
      "Running Monte Carlo simulation number 270.\n",
      "Running Monte Carlo simulation number 280.\n",
      "Running Monte Carlo simulation number 290.\n",
      "Running Monte Carlo simulation number 300.\n",
      "Running Monte Carlo simulation number 310.\n",
      "Running Monte Carlo simulation number 320.\n",
      "Running Monte Carlo simulation number 330.\n",
      "Running Monte Carlo simulation number 340.\n",
      "Running Monte Carlo simulation number 350.\n",
      "Running Monte Carlo simulation number 360.\n",
      "Running Monte Carlo simulation number 370.\n",
      "Running Monte Carlo simulation number 380.\n",
      "Running Monte Carlo simulation number 390.\n",
      "Running Monte Carlo simulation number 400.\n",
      "Running Monte Carlo simulation number 410.\n",
      "Running Monte Carlo simulation number 420.\n",
      "Running Monte Carlo simulation number 430.\n",
      "Running Monte Carlo simulation number 440.\n",
      "Running Monte Carlo simulation number 450.\n",
      "Running Monte Carlo simulation number 460.\n",
      "Running Monte Carlo simulation number 470.\n",
      "Running Monte Carlo simulation number 480.\n",
      "Running Monte Carlo simulation number 490.\n"
     ]
    },
    {
     "data": {
      "text/html": [
       "<div>\n",
       "<style scoped>\n",
       "    .dataframe tbody tr th:only-of-type {\n",
       "        vertical-align: middle;\n",
       "    }\n",
       "\n",
       "    .dataframe tbody tr th {\n",
       "        vertical-align: top;\n",
       "    }\n",
       "\n",
       "    .dataframe thead th {\n",
       "        text-align: right;\n",
       "    }\n",
       "</style>\n",
       "<table border=\"1\" class=\"dataframe\">\n",
       "  <thead>\n",
       "    <tr style=\"text-align: right;\">\n",
       "      <th></th>\n",
       "      <th>0</th>\n",
       "      <th>1</th>\n",
       "      <th>2</th>\n",
       "      <th>3</th>\n",
       "      <th>4</th>\n",
       "      <th>5</th>\n",
       "      <th>6</th>\n",
       "      <th>7</th>\n",
       "      <th>8</th>\n",
       "      <th>9</th>\n",
       "      <th>...</th>\n",
       "      <th>490</th>\n",
       "      <th>491</th>\n",
       "      <th>492</th>\n",
       "      <th>493</th>\n",
       "      <th>494</th>\n",
       "      <th>495</th>\n",
       "      <th>496</th>\n",
       "      <th>497</th>\n",
       "      <th>498</th>\n",
       "      <th>499</th>\n",
       "    </tr>\n",
       "  </thead>\n",
       "  <tbody>\n",
       "    <tr>\n",
       "      <th>0</th>\n",
       "      <td>1.000000</td>\n",
       "      <td>1.000000</td>\n",
       "      <td>1.000000</td>\n",
       "      <td>1.000000</td>\n",
       "      <td>1.000000</td>\n",
       "      <td>1.000000</td>\n",
       "      <td>1.000000</td>\n",
       "      <td>1.000000</td>\n",
       "      <td>1.000000</td>\n",
       "      <td>1.000000</td>\n",
       "      <td>...</td>\n",
       "      <td>1.000000</td>\n",
       "      <td>1.000000</td>\n",
       "      <td>1.000000</td>\n",
       "      <td>1.000000</td>\n",
       "      <td>1.000000</td>\n",
       "      <td>1.000000</td>\n",
       "      <td>1.000000</td>\n",
       "      <td>1.000000</td>\n",
       "      <td>1.000000</td>\n",
       "      <td>1.000000</td>\n",
       "    </tr>\n",
       "    <tr>\n",
       "      <th>1</th>\n",
       "      <td>0.994645</td>\n",
       "      <td>1.002854</td>\n",
       "      <td>1.000160</td>\n",
       "      <td>1.002848</td>\n",
       "      <td>0.998585</td>\n",
       "      <td>1.002042</td>\n",
       "      <td>0.997206</td>\n",
       "      <td>0.998228</td>\n",
       "      <td>0.996781</td>\n",
       "      <td>0.999746</td>\n",
       "      <td>...</td>\n",
       "      <td>1.001158</td>\n",
       "      <td>1.005751</td>\n",
       "      <td>0.997300</td>\n",
       "      <td>0.999908</td>\n",
       "      <td>0.999579</td>\n",
       "      <td>1.001951</td>\n",
       "      <td>0.993876</td>\n",
       "      <td>1.001581</td>\n",
       "      <td>1.005411</td>\n",
       "      <td>0.995350</td>\n",
       "    </tr>\n",
       "    <tr>\n",
       "      <th>2</th>\n",
       "      <td>1.001926</td>\n",
       "      <td>1.007267</td>\n",
       "      <td>1.000387</td>\n",
       "      <td>1.002130</td>\n",
       "      <td>0.998653</td>\n",
       "      <td>1.007761</td>\n",
       "      <td>0.999584</td>\n",
       "      <td>1.001920</td>\n",
       "      <td>1.003459</td>\n",
       "      <td>1.004372</td>\n",
       "      <td>...</td>\n",
       "      <td>1.005478</td>\n",
       "      <td>1.006746</td>\n",
       "      <td>0.997385</td>\n",
       "      <td>0.996695</td>\n",
       "      <td>1.003318</td>\n",
       "      <td>0.995714</td>\n",
       "      <td>0.997296</td>\n",
       "      <td>1.003071</td>\n",
       "      <td>1.003968</td>\n",
       "      <td>0.995048</td>\n",
       "    </tr>\n",
       "    <tr>\n",
       "      <th>3</th>\n",
       "      <td>1.001618</td>\n",
       "      <td>1.005124</td>\n",
       "      <td>1.002274</td>\n",
       "      <td>1.000993</td>\n",
       "      <td>0.996284</td>\n",
       "      <td>1.006225</td>\n",
       "      <td>1.002189</td>\n",
       "      <td>1.005763</td>\n",
       "      <td>0.996479</td>\n",
       "      <td>0.996446</td>\n",
       "      <td>...</td>\n",
       "      <td>1.006385</td>\n",
       "      <td>1.011102</td>\n",
       "      <td>1.003770</td>\n",
       "      <td>0.999320</td>\n",
       "      <td>1.006459</td>\n",
       "      <td>0.991148</td>\n",
       "      <td>0.999556</td>\n",
       "      <td>0.996760</td>\n",
       "      <td>1.004303</td>\n",
       "      <td>0.996613</td>\n",
       "    </tr>\n",
       "    <tr>\n",
       "      <th>4</th>\n",
       "      <td>1.003476</td>\n",
       "      <td>1.004329</td>\n",
       "      <td>1.001387</td>\n",
       "      <td>1.002730</td>\n",
       "      <td>0.997557</td>\n",
       "      <td>1.010941</td>\n",
       "      <td>0.998453</td>\n",
       "      <td>1.011393</td>\n",
       "      <td>0.995299</td>\n",
       "      <td>0.994151</td>\n",
       "      <td>...</td>\n",
       "      <td>1.007083</td>\n",
       "      <td>1.010524</td>\n",
       "      <td>1.008238</td>\n",
       "      <td>1.006849</td>\n",
       "      <td>0.998283</td>\n",
       "      <td>0.986462</td>\n",
       "      <td>1.006919</td>\n",
       "      <td>0.989900</td>\n",
       "      <td>1.006968</td>\n",
       "      <td>0.991992</td>\n",
       "    </tr>\n",
       "    <tr>\n",
       "      <th>...</th>\n",
       "      <td>...</td>\n",
       "      <td>...</td>\n",
       "      <td>...</td>\n",
       "      <td>...</td>\n",
       "      <td>...</td>\n",
       "      <td>...</td>\n",
       "      <td>...</td>\n",
       "      <td>...</td>\n",
       "      <td>...</td>\n",
       "      <td>...</td>\n",
       "      <td>...</td>\n",
       "      <td>...</td>\n",
       "      <td>...</td>\n",
       "      <td>...</td>\n",
       "      <td>...</td>\n",
       "      <td>...</td>\n",
       "      <td>...</td>\n",
       "      <td>...</td>\n",
       "      <td>...</td>\n",
       "      <td>...</td>\n",
       "      <td>...</td>\n",
       "    </tr>\n",
       "    <tr>\n",
       "      <th>7556</th>\n",
       "      <td>11.625103</td>\n",
       "      <td>13.982674</td>\n",
       "      <td>12.076698</td>\n",
       "      <td>20.775549</td>\n",
       "      <td>17.299932</td>\n",
       "      <td>19.814708</td>\n",
       "      <td>14.363651</td>\n",
       "      <td>22.815562</td>\n",
       "      <td>21.674356</td>\n",
       "      <td>14.079214</td>\n",
       "      <td>...</td>\n",
       "      <td>12.753119</td>\n",
       "      <td>10.189382</td>\n",
       "      <td>14.278335</td>\n",
       "      <td>14.555596</td>\n",
       "      <td>20.814292</td>\n",
       "      <td>17.127717</td>\n",
       "      <td>13.274792</td>\n",
       "      <td>16.751491</td>\n",
       "      <td>7.254560</td>\n",
       "      <td>9.540591</td>\n",
       "    </tr>\n",
       "    <tr>\n",
       "      <th>7557</th>\n",
       "      <td>11.615782</td>\n",
       "      <td>13.929516</td>\n",
       "      <td>12.033068</td>\n",
       "      <td>20.684695</td>\n",
       "      <td>17.304525</td>\n",
       "      <td>19.662480</td>\n",
       "      <td>14.468526</td>\n",
       "      <td>22.675021</td>\n",
       "      <td>21.646290</td>\n",
       "      <td>14.089702</td>\n",
       "      <td>...</td>\n",
       "      <td>12.770379</td>\n",
       "      <td>10.195702</td>\n",
       "      <td>14.299770</td>\n",
       "      <td>14.521084</td>\n",
       "      <td>20.856569</td>\n",
       "      <td>17.177929</td>\n",
       "      <td>13.371262</td>\n",
       "      <td>16.755712</td>\n",
       "      <td>7.255960</td>\n",
       "      <td>9.558438</td>\n",
       "    </tr>\n",
       "    <tr>\n",
       "      <th>7558</th>\n",
       "      <td>11.630247</td>\n",
       "      <td>13.938077</td>\n",
       "      <td>12.051407</td>\n",
       "      <td>20.603225</td>\n",
       "      <td>17.212973</td>\n",
       "      <td>19.624240</td>\n",
       "      <td>14.467814</td>\n",
       "      <td>22.718510</td>\n",
       "      <td>21.700597</td>\n",
       "      <td>14.157366</td>\n",
       "      <td>...</td>\n",
       "      <td>12.770224</td>\n",
       "      <td>10.162044</td>\n",
       "      <td>14.313662</td>\n",
       "      <td>14.508296</td>\n",
       "      <td>20.833613</td>\n",
       "      <td>17.277832</td>\n",
       "      <td>13.342022</td>\n",
       "      <td>16.808615</td>\n",
       "      <td>7.235374</td>\n",
       "      <td>9.549427</td>\n",
       "    </tr>\n",
       "    <tr>\n",
       "      <th>7559</th>\n",
       "      <td>11.564606</td>\n",
       "      <td>13.884227</td>\n",
       "      <td>11.990885</td>\n",
       "      <td>20.618350</td>\n",
       "      <td>17.227872</td>\n",
       "      <td>19.547915</td>\n",
       "      <td>14.458499</td>\n",
       "      <td>22.671114</td>\n",
       "      <td>21.636275</td>\n",
       "      <td>14.109792</td>\n",
       "      <td>...</td>\n",
       "      <td>12.747897</td>\n",
       "      <td>10.181832</td>\n",
       "      <td>14.292140</td>\n",
       "      <td>14.502086</td>\n",
       "      <td>20.793044</td>\n",
       "      <td>17.226107</td>\n",
       "      <td>13.335885</td>\n",
       "      <td>16.841069</td>\n",
       "      <td>7.216535</td>\n",
       "      <td>9.555040</td>\n",
       "    </tr>\n",
       "    <tr>\n",
       "      <th>7560</th>\n",
       "      <td>11.582083</td>\n",
       "      <td>13.854064</td>\n",
       "      <td>11.978268</td>\n",
       "      <td>20.630410</td>\n",
       "      <td>17.244565</td>\n",
       "      <td>19.471298</td>\n",
       "      <td>14.397257</td>\n",
       "      <td>22.836466</td>\n",
       "      <td>21.677137</td>\n",
       "      <td>14.116320</td>\n",
       "      <td>...</td>\n",
       "      <td>12.756317</td>\n",
       "      <td>10.128038</td>\n",
       "      <td>14.371933</td>\n",
       "      <td>14.506923</td>\n",
       "      <td>20.834726</td>\n",
       "      <td>17.162660</td>\n",
       "      <td>13.292298</td>\n",
       "      <td>16.864019</td>\n",
       "      <td>7.197654</td>\n",
       "      <td>9.551602</td>\n",
       "    </tr>\n",
       "  </tbody>\n",
       "</table>\n",
       "<p>7561 rows × 500 columns</p>\n",
       "</div>"
      ],
      "text/plain": [
       "            0          1          2          3          4          5    \\\n",
       "0      1.000000   1.000000   1.000000   1.000000   1.000000   1.000000   \n",
       "1      0.994645   1.002854   1.000160   1.002848   0.998585   1.002042   \n",
       "2      1.001926   1.007267   1.000387   1.002130   0.998653   1.007761   \n",
       "3      1.001618   1.005124   1.002274   1.000993   0.996284   1.006225   \n",
       "4      1.003476   1.004329   1.001387   1.002730   0.997557   1.010941   \n",
       "...         ...        ...        ...        ...        ...        ...   \n",
       "7556  11.625103  13.982674  12.076698  20.775549  17.299932  19.814708   \n",
       "7557  11.615782  13.929516  12.033068  20.684695  17.304525  19.662480   \n",
       "7558  11.630247  13.938077  12.051407  20.603225  17.212973  19.624240   \n",
       "7559  11.564606  13.884227  11.990885  20.618350  17.227872  19.547915   \n",
       "7560  11.582083  13.854064  11.978268  20.630410  17.244565  19.471298   \n",
       "\n",
       "            6          7          8          9    ...        490        491  \\\n",
       "0      1.000000   1.000000   1.000000   1.000000  ...   1.000000   1.000000   \n",
       "1      0.997206   0.998228   0.996781   0.999746  ...   1.001158   1.005751   \n",
       "2      0.999584   1.001920   1.003459   1.004372  ...   1.005478   1.006746   \n",
       "3      1.002189   1.005763   0.996479   0.996446  ...   1.006385   1.011102   \n",
       "4      0.998453   1.011393   0.995299   0.994151  ...   1.007083   1.010524   \n",
       "...         ...        ...        ...        ...  ...        ...        ...   \n",
       "7556  14.363651  22.815562  21.674356  14.079214  ...  12.753119  10.189382   \n",
       "7557  14.468526  22.675021  21.646290  14.089702  ...  12.770379  10.195702   \n",
       "7558  14.467814  22.718510  21.700597  14.157366  ...  12.770224  10.162044   \n",
       "7559  14.458499  22.671114  21.636275  14.109792  ...  12.747897  10.181832   \n",
       "7560  14.397257  22.836466  21.677137  14.116320  ...  12.756317  10.128038   \n",
       "\n",
       "            492        493        494        495        496        497  \\\n",
       "0      1.000000   1.000000   1.000000   1.000000   1.000000   1.000000   \n",
       "1      0.997300   0.999908   0.999579   1.001951   0.993876   1.001581   \n",
       "2      0.997385   0.996695   1.003318   0.995714   0.997296   1.003071   \n",
       "3      1.003770   0.999320   1.006459   0.991148   0.999556   0.996760   \n",
       "4      1.008238   1.006849   0.998283   0.986462   1.006919   0.989900   \n",
       "...         ...        ...        ...        ...        ...        ...   \n",
       "7556  14.278335  14.555596  20.814292  17.127717  13.274792  16.751491   \n",
       "7557  14.299770  14.521084  20.856569  17.177929  13.371262  16.755712   \n",
       "7558  14.313662  14.508296  20.833613  17.277832  13.342022  16.808615   \n",
       "7559  14.292140  14.502086  20.793044  17.226107  13.335885  16.841069   \n",
       "7560  14.371933  14.506923  20.834726  17.162660  13.292298  16.864019   \n",
       "\n",
       "           498       499  \n",
       "0     1.000000  1.000000  \n",
       "1     1.005411  0.995350  \n",
       "2     1.003968  0.995048  \n",
       "3     1.004303  0.996613  \n",
       "4     1.006968  0.991992  \n",
       "...        ...       ...  \n",
       "7556  7.254560  9.540591  \n",
       "7557  7.255960  9.558438  \n",
       "7558  7.235374  9.549427  \n",
       "7559  7.216535  9.555040  \n",
       "7560  7.197654  9.551602  \n",
       "\n",
       "[7561 rows x 500 columns]"
      ]
     },
     "execution_count": 31,
     "metadata": {},
     "output_type": "execute_result"
    }
   ],
   "source": [
    "# Run the Monte Carlo simulation to forecast 30 years cumulative returns\n",
    "# YOUR CODE HERE\n",
    "MC_thirty_years.calc_cumulative_return()"
   ]
  },
  {
   "cell_type": "code",
   "execution_count": 32,
   "metadata": {},
   "outputs": [
    {
     "data": {
      "image/png": "[encoded data removed]",
      "text/plain": [
       "<Figure size 432x288 with 1 Axes>"
      ]
     },
     "metadata": {
      "needs_background": "light"
     },
     "output_type": "display_data"
    }
   ],
   "source": [
    "# Visualize the 30-year Monte Carlo simulation by creating an\n",
    "# overlay line plot\n",
    "# YOUR CODE HERE\n",
    "MC_sim_line_plot = MC_thirty_years.plot_simulation()\n",
    "\n",
    "MC_sim_line_plot.get_figure().savefig(\"MC_thirty_years_sim_plot.png\", bbox_inches=\"tight\")"
   ]
  },
  {
   "cell_type": "markdown",
   "metadata": {},
   "source": [
    "#### Step 3: Plot the probability distribution of the Monte Carlo simulation."
   ]
  },
  {
   "cell_type": "code",
   "execution_count": 33,
   "metadata": {},
   "outputs": [
    {
     "data": {
      "image/png": "[encoded data removed]",
      "text/plain": [
       "<Figure size 432x288 with 1 Axes>"
      ]
     },
     "metadata": {
      "needs_background": "light"
     },
     "output_type": "display_data"
    }
   ],
   "source": [
    "# Visualize the probability distribution of the 30-year Monte Carlo simulation \n",
    "# by plotting a histogram\n",
    "# YOUR CODE HERE\n",
    "MC_sim_dis_plot = MC_thirty_years.plot_distribution()\n",
    "MC_sim_dis_plot.get_figure().savefig(\"MC_thirty_years_dis_plot.png\", bbox_inches=\"tight\")"
   ]
  },
  {
   "cell_type": "markdown",
   "metadata": {},
   "source": [
    "#### Step 4: Generate the summary statistics for the Monte Carlo simulation."
   ]
  },
  {
   "cell_type": "code",
   "execution_count": 34,
   "metadata": {},
   "outputs": [
    {
     "name": "stdout",
     "output_type": "stream",
     "text": [
      "count           500.000000\n",
      "mean             15.857083\n",
      "std               5.050758\n",
      "min               5.168521\n",
      "25%              12.407844\n",
      "50%              14.912641\n",
      "75%              18.655717\n",
      "max              40.198132\n",
      "95% CI Lower      8.097815\n",
      "95% CI Upper     26.663270\n",
      "Name: 7560, dtype: float64\n"
     ]
    }
   ],
   "source": [
    "# Generate summary statistics from the 30-year Monte Carlo simulation results\n",
    "# Save the results as a variable\n",
    "# YOUR CODE HERE\n",
    "\n",
    "MC_summary_statistics = MC_thirty_years.summarize_cumulative_return()\n",
    "# Review the 30-year Monte Carlo summary statistics\n",
    "# YOUR CODE HERE\n",
    "print(MC_summary_statistics)"
   ]
  },
  {
   "cell_type": "markdown",
   "metadata": {},
   "source": [
    "### Analyze the Retirement Portfolio Forecasts\n",
    "\n",
    "Using the current value of only the stock and bond portion of the member's portfolio and the summary statistics that you generated from the Monte Carlo simulation, answer the following question in your Jupyter notebook:\n",
    "\n",
    "-  What are the lower and upper bounds for the expected value of the portfolio with a 95% confidence interval?\n"
   ]
  },
  {
   "cell_type": "code",
   "execution_count": 35,
   "metadata": {},
   "outputs": [
    {
     "name": "stdout",
     "output_type": "stream",
     "text": [
      "60689.5\n"
     ]
    }
   ],
   "source": [
    "# Print the current balance of the stock and bond portion of the members portfolio\n",
    "# YOUR CODE HERE\n",
    "print(total_stocks_bonds)"
   ]
  },
  {
   "cell_type": "code",
   "execution_count": 36,
   "metadata": {},
   "outputs": [
    {
     "name": "stdout",
     "output_type": "stream",
     "text": [
      "There is a 95% chance that an initial investment of $60689.5 in the portfolio over the next 30 years will end within in the range of $ 491452.35 and $ 1618180.50.\n"
     ]
    }
   ],
   "source": [
    "# Use the lower and upper `95%` confidence intervals to calculate the range of the possible outcomes for the current stock/bond portfolio\n",
    "ci_lower_thirty_cumulative_return = MC_summary_statistics[8] * total_stocks_bonds # YOUR CODE HERE\n",
    "ci_upper_thirty_cumulative_return = MC_summary_statistics[9] * total_stocks_bonds # YOUR CODE HERE\n",
    "\n",
    "# Print the result of your calculations\n",
    "# YOUR CODE HERE\n",
    "print(f\"There is a 95% chance that an initial investment of ${total_stocks_bonds} in the portfolio\"\n",
    "    f\" over the next 30 years will end within in the range of\"\n",
    "    f\" ${ci_lower_thirty_cumulative_return: .2f} and ${ci_upper_thirty_cumulative_return: .2f}.\")\n"
   ]
  },
  {
   "cell_type": "markdown",
   "metadata": {},
   "source": [
    "### Forecast Cumulative Returns in 10 Years\n",
    "\n",
    "The CTO of the credit union is impressed with your work on these planning tools but wonders if 30 years is a long time to wait until retirement. So, your next task is to adjust the retirement portfolio and run a new Monte Carlo simulation to find out if the changes will allow members to retire earlier.\n",
    "\n",
    "For this new Monte Carlo simulation, do the following: \n",
    "\n",
    "- Forecast the cumulative returns for 10 years from now. Because of the shortened investment horizon (30 years to 10 years), the portfolio needs to invest more heavily in the riskier asset&mdash;that is, stock&mdash;to help accumulate wealth for retirement. \n",
    "\n",
    "- Adjust the weights of the retirement portfolio so that the composition for the Monte Carlo simulation consists of 20% bonds and 80% stocks. \n",
    "\n",
    "- Run the simulation over 500 samples, and use the same data that the API call to Alpaca generated.\n",
    "\n",
    "- Based on the new Monte Carlo simulation, answer the following questions in your Jupyter notebook:\n",
    "\n",
    "    - Using the current value of only the stock and bond portion of the member's portfolio and the summary statistics that you generated from the new Monte Carlo simulation, what are the lower and upper bounds for the expected value of the portfolio (with the new weights) with a 95% confidence interval?\n",
    "\n",
    "    - Will weighting the portfolio more heavily toward stocks allow the credit union members to retire after only 10 years?\n"
   ]
  },
  {
   "cell_type": "code",
   "execution_count": 37,
   "metadata": {},
   "outputs": [
    {
     "data": {
      "text/html": [
       "<div>\n",
       "<style scoped>\n",
       "    .dataframe tbody tr th:only-of-type {\n",
       "        vertical-align: middle;\n",
       "    }\n",
       "\n",
       "    .dataframe tbody tr th {\n",
       "        vertical-align: top;\n",
       "    }\n",
       "\n",
       "    .dataframe thead tr th {\n",
       "        text-align: left;\n",
       "    }\n",
       "\n",
       "    .dataframe thead tr:last-of-type th {\n",
       "        text-align: right;\n",
       "    }\n",
       "</style>\n",
       "<table border=\"1\" class=\"dataframe\">\n",
       "  <thead>\n",
       "    <tr>\n",
       "      <th></th>\n",
       "      <th colspan=\"6\" halign=\"left\">AGG</th>\n",
       "      <th colspan=\"6\" halign=\"left\">SPY</th>\n",
       "    </tr>\n",
       "    <tr>\n",
       "      <th></th>\n",
       "      <th>open</th>\n",
       "      <th>high</th>\n",
       "      <th>low</th>\n",
       "      <th>close</th>\n",
       "      <th>volume</th>\n",
       "      <th>daily_return</th>\n",
       "      <th>open</th>\n",
       "      <th>high</th>\n",
       "      <th>low</th>\n",
       "      <th>close</th>\n",
       "      <th>volume</th>\n",
       "      <th>daily_return</th>\n",
       "    </tr>\n",
       "    <tr>\n",
       "      <th>time</th>\n",
       "      <th></th>\n",
       "      <th></th>\n",
       "      <th></th>\n",
       "      <th></th>\n",
       "      <th></th>\n",
       "      <th></th>\n",
       "      <th></th>\n",
       "      <th></th>\n",
       "      <th></th>\n",
       "      <th></th>\n",
       "      <th></th>\n",
       "      <th></th>\n",
       "    </tr>\n",
       "  </thead>\n",
       "  <tbody>\n",
       "    <tr>\n",
       "      <th>2020-12-02 00:00:00-05:00</th>\n",
       "      <td>117.81</td>\n",
       "      <td>117.8100</td>\n",
       "      <td>117.5400</td>\n",
       "      <td>117.705</td>\n",
       "      <td>5554915</td>\n",
       "      <td>NaN</td>\n",
       "      <td>364.82</td>\n",
       "      <td>366.96</td>\n",
       "      <td>364.20</td>\n",
       "      <td>366.7599</td>\n",
       "      <td>37323404</td>\n",
       "      <td>NaN</td>\n",
       "    </tr>\n",
       "    <tr>\n",
       "      <th>2020-12-03 00:00:00-05:00</th>\n",
       "      <td>117.92</td>\n",
       "      <td>117.9800</td>\n",
       "      <td>117.7650</td>\n",
       "      <td>117.910</td>\n",
       "      <td>5210910</td>\n",
       "      <td>0.001742</td>\n",
       "      <td>366.68</td>\n",
       "      <td>368.19</td>\n",
       "      <td>365.50</td>\n",
       "      <td>366.6698</td>\n",
       "      <td>52905586</td>\n",
       "      <td>-0.000246</td>\n",
       "    </tr>\n",
       "    <tr>\n",
       "      <th>2020-12-04 00:00:00-05:00</th>\n",
       "      <td>117.90</td>\n",
       "      <td>117.9000</td>\n",
       "      <td>117.5133</td>\n",
       "      <td>117.580</td>\n",
       "      <td>4821820</td>\n",
       "      <td>-0.002799</td>\n",
       "      <td>367.32</td>\n",
       "      <td>369.85</td>\n",
       "      <td>367.22</td>\n",
       "      <td>369.8300</td>\n",
       "      <td>40264568</td>\n",
       "      <td>0.008619</td>\n",
       "    </tr>\n",
       "    <tr>\n",
       "      <th>2020-12-07 00:00:00-05:00</th>\n",
       "      <td>117.76</td>\n",
       "      <td>117.8262</td>\n",
       "      <td>117.6900</td>\n",
       "      <td>117.750</td>\n",
       "      <td>4689469</td>\n",
       "      <td>0.001446</td>\n",
       "      <td>369.02</td>\n",
       "      <td>369.62</td>\n",
       "      <td>367.72</td>\n",
       "      <td>369.1200</td>\n",
       "      <td>40456544</td>\n",
       "      <td>-0.001920</td>\n",
       "    </tr>\n",
       "    <tr>\n",
       "      <th>2020-12-08 00:00:00-05:00</th>\n",
       "      <td>117.88</td>\n",
       "      <td>117.9597</td>\n",
       "      <td>117.7500</td>\n",
       "      <td>117.770</td>\n",
       "      <td>3587353</td>\n",
       "      <td>0.000170</td>\n",
       "      <td>367.72</td>\n",
       "      <td>370.78</td>\n",
       "      <td>367.67</td>\n",
       "      <td>370.1599</td>\n",
       "      <td>32702217</td>\n",
       "      <td>0.002817</td>\n",
       "    </tr>\n",
       "  </tbody>\n",
       "</table>\n",
       "</div>"
      ],
      "text/plain": [
       "                              AGG                                        \\\n",
       "                             open      high       low    close   volume   \n",
       "time                                                                      \n",
       "2020-12-02 00:00:00-05:00  117.81  117.8100  117.5400  117.705  5554915   \n",
       "2020-12-03 00:00:00-05:00  117.92  117.9800  117.7650  117.910  5210910   \n",
       "2020-12-04 00:00:00-05:00  117.90  117.9000  117.5133  117.580  4821820   \n",
       "2020-12-07 00:00:00-05:00  117.76  117.8262  117.6900  117.750  4689469   \n",
       "2020-12-08 00:00:00-05:00  117.88  117.9597  117.7500  117.770  3587353   \n",
       "\n",
       "                                           SPY                            \\\n",
       "                          daily_return    open    high     low     close   \n",
       "time                                                                       \n",
       "2020-12-02 00:00:00-05:00          NaN  364.82  366.96  364.20  366.7599   \n",
       "2020-12-03 00:00:00-05:00     0.001742  366.68  368.19  365.50  366.6698   \n",
       "2020-12-04 00:00:00-05:00    -0.002799  367.32  369.85  367.22  369.8300   \n",
       "2020-12-07 00:00:00-05:00     0.001446  369.02  369.62  367.72  369.1200   \n",
       "2020-12-08 00:00:00-05:00     0.000170  367.72  370.78  367.67  370.1599   \n",
       "\n",
       "                                                  \n",
       "                             volume daily_return  \n",
       "time                                              \n",
       "2020-12-02 00:00:00-05:00  37323404          NaN  \n",
       "2020-12-03 00:00:00-05:00  52905586    -0.000246  \n",
       "2020-12-04 00:00:00-05:00  40264568     0.008619  \n",
       "2020-12-07 00:00:00-05:00  40456544    -0.001920  \n",
       "2020-12-08 00:00:00-05:00  32702217     0.002817  "
      ]
     },
     "execution_count": 37,
     "metadata": {},
     "output_type": "execute_result"
    }
   ],
   "source": [
    "# Configure a Monte Carlo simulation to forecast 10 years cumulative returns\n",
    "# The weights should be split 20% to AGG and 80% to SPY.\n",
    "# Run 500 samples.\n",
    "# YOUR CODE HERE\n",
    "MC_ten_years = MCSimulation(\n",
    "    portfolio_data = ten_years_prices_df,\n",
    "    weights= [.20, .80],\n",
    "    num_simulation = 500,\n",
    "    num_trading_days = 252*10\n",
    ") \n",
    "\n",
    "# Review the simulation input data\n",
    "# YOUR CODE HERE\n",
    "MC_ten_years.portfolio_data.head()\n"
   ]
  },
  {
   "cell_type": "code",
   "execution_count": 38,
   "metadata": {},
   "outputs": [
    {
     "name": "stdout",
     "output_type": "stream",
     "text": [
      "Running Monte Carlo simulation number 0.\n",
      "Running Monte Carlo simulation number 10.\n",
      "Running Monte Carlo simulation number 20.\n",
      "Running Monte Carlo simulation number 30.\n",
      "Running Monte Carlo simulation number 40.\n",
      "Running Monte Carlo simulation number 50.\n",
      "Running Monte Carlo simulation number 60.\n",
      "Running Monte Carlo simulation number 70.\n",
      "Running Monte Carlo simulation number 80.\n",
      "Running Monte Carlo simulation number 90.\n",
      "Running Monte Carlo simulation number 100.\n",
      "Running Monte Carlo simulation number 110.\n",
      "Running Monte Carlo simulation number 120.\n",
      "Running Monte Carlo simulation number 130.\n",
      "Running Monte Carlo simulation number 140.\n",
      "Running Monte Carlo simulation number 150.\n",
      "Running Monte Carlo simulation number 160.\n",
      "Running Monte Carlo simulation number 170.\n",
      "Running Monte Carlo simulation number 180.\n",
      "Running Monte Carlo simulation number 190.\n",
      "Running Monte Carlo simulation number 200.\n",
      "Running Monte Carlo simulation number 210.\n",
      "Running Monte Carlo simulation number 220.\n",
      "Running Monte Carlo simulation number 230.\n",
      "Running Monte Carlo simulation number 240.\n",
      "Running Monte Carlo simulation number 250.\n",
      "Running Monte Carlo simulation number 260.\n",
      "Running Monte Carlo simulation number 270.\n",
      "Running Monte Carlo simulation number 280.\n",
      "Running Monte Carlo simulation number 290.\n",
      "Running Monte Carlo simulation number 300.\n",
      "Running Monte Carlo simulation number 310.\n",
      "Running Monte Carlo simulation number 320.\n",
      "Running Monte Carlo simulation number 330.\n",
      "Running Monte Carlo simulation number 340.\n",
      "Running Monte Carlo simulation number 350.\n",
      "Running Monte Carlo simulation number 360.\n",
      "Running Monte Carlo simulation number 370.\n",
      "Running Monte Carlo simulation number 380.\n",
      "Running Monte Carlo simulation number 390.\n",
      "Running Monte Carlo simulation number 400.\n",
      "Running Monte Carlo simulation number 410.\n",
      "Running Monte Carlo simulation number 420.\n",
      "Running Monte Carlo simulation number 430.\n",
      "Running Monte Carlo simulation number 440.\n",
      "Running Monte Carlo simulation number 450.\n",
      "Running Monte Carlo simulation number 460.\n",
      "Running Monte Carlo simulation number 470.\n",
      "Running Monte Carlo simulation number 480.\n",
      "Running Monte Carlo simulation number 490.\n"
     ]
    },
    {
     "data": {
      "text/html": [
       "<div>\n",
       "<style scoped>\n",
       "    .dataframe tbody tr th:only-of-type {\n",
       "        vertical-align: middle;\n",
       "    }\n",
       "\n",
       "    .dataframe tbody tr th {\n",
       "        vertical-align: top;\n",
       "    }\n",
       "\n",
       "    .dataframe thead th {\n",
       "        text-align: right;\n",
       "    }\n",
       "</style>\n",
       "<table border=\"1\" class=\"dataframe\">\n",
       "  <thead>\n",
       "    <tr style=\"text-align: right;\">\n",
       "      <th></th>\n",
       "      <th>0</th>\n",
       "      <th>1</th>\n",
       "      <th>2</th>\n",
       "      <th>3</th>\n",
       "      <th>4</th>\n",
       "      <th>5</th>\n",
       "      <th>6</th>\n",
       "      <th>7</th>\n",
       "      <th>8</th>\n",
       "      <th>9</th>\n",
       "      <th>...</th>\n",
       "      <th>490</th>\n",
       "      <th>491</th>\n",
       "      <th>492</th>\n",
       "      <th>493</th>\n",
       "      <th>494</th>\n",
       "      <th>495</th>\n",
       "      <th>496</th>\n",
       "      <th>497</th>\n",
       "      <th>498</th>\n",
       "      <th>499</th>\n",
       "    </tr>\n",
       "  </thead>\n",
       "  <tbody>\n",
       "    <tr>\n",
       "      <th>0</th>\n",
       "      <td>1.000000</td>\n",
       "      <td>1.000000</td>\n",
       "      <td>1.000000</td>\n",
       "      <td>1.000000</td>\n",
       "      <td>1.000000</td>\n",
       "      <td>1.000000</td>\n",
       "      <td>1.000000</td>\n",
       "      <td>1.000000</td>\n",
       "      <td>1.000000</td>\n",
       "      <td>1.000000</td>\n",
       "      <td>...</td>\n",
       "      <td>1.000000</td>\n",
       "      <td>1.000000</td>\n",
       "      <td>1.000000</td>\n",
       "      <td>1.000000</td>\n",
       "      <td>1.000000</td>\n",
       "      <td>1.000000</td>\n",
       "      <td>1.000000</td>\n",
       "      <td>1.000000</td>\n",
       "      <td>1.000000</td>\n",
       "      <td>1.000000</td>\n",
       "    </tr>\n",
       "    <tr>\n",
       "      <th>1</th>\n",
       "      <td>0.994585</td>\n",
       "      <td>0.994836</td>\n",
       "      <td>1.009794</td>\n",
       "      <td>0.995536</td>\n",
       "      <td>1.011554</td>\n",
       "      <td>1.012894</td>\n",
       "      <td>0.993655</td>\n",
       "      <td>0.995431</td>\n",
       "      <td>1.005055</td>\n",
       "      <td>0.998681</td>\n",
       "      <td>...</td>\n",
       "      <td>0.991622</td>\n",
       "      <td>1.000702</td>\n",
       "      <td>1.009521</td>\n",
       "      <td>0.992616</td>\n",
       "      <td>1.000475</td>\n",
       "      <td>1.009281</td>\n",
       "      <td>0.994781</td>\n",
       "      <td>1.006685</td>\n",
       "      <td>0.987938</td>\n",
       "      <td>1.006760</td>\n",
       "    </tr>\n",
       "    <tr>\n",
       "      <th>2</th>\n",
       "      <td>1.001763</td>\n",
       "      <td>0.986053</td>\n",
       "      <td>1.010946</td>\n",
       "      <td>0.991270</td>\n",
       "      <td>0.995278</td>\n",
       "      <td>1.025041</td>\n",
       "      <td>0.998981</td>\n",
       "      <td>0.998046</td>\n",
       "      <td>1.010822</td>\n",
       "      <td>0.999493</td>\n",
       "      <td>...</td>\n",
       "      <td>0.994568</td>\n",
       "      <td>0.993370</td>\n",
       "      <td>1.011086</td>\n",
       "      <td>1.000781</td>\n",
       "      <td>1.009329</td>\n",
       "      <td>1.018902</td>\n",
       "      <td>1.007620</td>\n",
       "      <td>1.013302</td>\n",
       "      <td>0.983232</td>\n",
       "      <td>1.012356</td>\n",
       "    </tr>\n",
       "    <tr>\n",
       "      <th>3</th>\n",
       "      <td>0.996226</td>\n",
       "      <td>0.988255</td>\n",
       "      <td>1.015051</td>\n",
       "      <td>0.987940</td>\n",
       "      <td>0.980119</td>\n",
       "      <td>1.032847</td>\n",
       "      <td>0.998722</td>\n",
       "      <td>0.996958</td>\n",
       "      <td>1.014025</td>\n",
       "      <td>1.000395</td>\n",
       "      <td>...</td>\n",
       "      <td>0.992146</td>\n",
       "      <td>0.987496</td>\n",
       "      <td>1.022729</td>\n",
       "      <td>1.008206</td>\n",
       "      <td>1.002207</td>\n",
       "      <td>1.018510</td>\n",
       "      <td>1.003866</td>\n",
       "      <td>1.022186</td>\n",
       "      <td>0.977532</td>\n",
       "      <td>1.014907</td>\n",
       "    </tr>\n",
       "    <tr>\n",
       "      <th>4</th>\n",
       "      <td>0.999129</td>\n",
       "      <td>0.985933</td>\n",
       "      <td>1.028858</td>\n",
       "      <td>0.985520</td>\n",
       "      <td>0.974813</td>\n",
       "      <td>1.028153</td>\n",
       "      <td>1.006805</td>\n",
       "      <td>0.988419</td>\n",
       "      <td>1.026084</td>\n",
       "      <td>0.999596</td>\n",
       "      <td>...</td>\n",
       "      <td>0.990936</td>\n",
       "      <td>0.987135</td>\n",
       "      <td>1.033853</td>\n",
       "      <td>1.011103</td>\n",
       "      <td>0.999662</td>\n",
       "      <td>1.012545</td>\n",
       "      <td>1.020077</td>\n",
       "      <td>1.004769</td>\n",
       "      <td>0.976974</td>\n",
       "      <td>1.015302</td>\n",
       "    </tr>\n",
       "    <tr>\n",
       "      <th>...</th>\n",
       "      <td>...</td>\n",
       "      <td>...</td>\n",
       "      <td>...</td>\n",
       "      <td>...</td>\n",
       "      <td>...</td>\n",
       "      <td>...</td>\n",
       "      <td>...</td>\n",
       "      <td>...</td>\n",
       "      <td>...</td>\n",
       "      <td>...</td>\n",
       "      <td>...</td>\n",
       "      <td>...</td>\n",
       "      <td>...</td>\n",
       "      <td>...</td>\n",
       "      <td>...</td>\n",
       "      <td>...</td>\n",
       "      <td>...</td>\n",
       "      <td>...</td>\n",
       "      <td>...</td>\n",
       "      <td>...</td>\n",
       "      <td>...</td>\n",
       "    </tr>\n",
       "    <tr>\n",
       "      <th>2516</th>\n",
       "      <td>6.137746</td>\n",
       "      <td>9.222553</td>\n",
       "      <td>24.816925</td>\n",
       "      <td>12.362604</td>\n",
       "      <td>14.821643</td>\n",
       "      <td>14.315350</td>\n",
       "      <td>9.392127</td>\n",
       "      <td>11.628609</td>\n",
       "      <td>14.017804</td>\n",
       "      <td>17.000125</td>\n",
       "      <td>...</td>\n",
       "      <td>5.848709</td>\n",
       "      <td>18.883243</td>\n",
       "      <td>6.106191</td>\n",
       "      <td>10.245972</td>\n",
       "      <td>16.430624</td>\n",
       "      <td>11.672435</td>\n",
       "      <td>21.094141</td>\n",
       "      <td>21.245792</td>\n",
       "      <td>19.811210</td>\n",
       "      <td>21.506070</td>\n",
       "    </tr>\n",
       "    <tr>\n",
       "      <th>2517</th>\n",
       "      <td>6.058966</td>\n",
       "      <td>9.284902</td>\n",
       "      <td>25.028574</td>\n",
       "      <td>12.400771</td>\n",
       "      <td>14.639519</td>\n",
       "      <td>14.453230</td>\n",
       "      <td>9.388564</td>\n",
       "      <td>11.522219</td>\n",
       "      <td>13.817335</td>\n",
       "      <td>17.119496</td>\n",
       "      <td>...</td>\n",
       "      <td>5.830896</td>\n",
       "      <td>18.977373</td>\n",
       "      <td>6.087018</td>\n",
       "      <td>10.269466</td>\n",
       "      <td>16.343787</td>\n",
       "      <td>11.695755</td>\n",
       "      <td>21.449380</td>\n",
       "      <td>21.481645</td>\n",
       "      <td>19.842627</td>\n",
       "      <td>21.780834</td>\n",
       "    </tr>\n",
       "    <tr>\n",
       "      <th>2518</th>\n",
       "      <td>6.058994</td>\n",
       "      <td>9.378915</td>\n",
       "      <td>25.383539</td>\n",
       "      <td>12.316807</td>\n",
       "      <td>14.547285</td>\n",
       "      <td>14.471511</td>\n",
       "      <td>9.371804</td>\n",
       "      <td>11.543580</td>\n",
       "      <td>13.932429</td>\n",
       "      <td>16.940006</td>\n",
       "      <td>...</td>\n",
       "      <td>5.778741</td>\n",
       "      <td>19.028090</td>\n",
       "      <td>6.075776</td>\n",
       "      <td>10.251407</td>\n",
       "      <td>16.567544</td>\n",
       "      <td>11.607053</td>\n",
       "      <td>21.746848</td>\n",
       "      <td>21.429216</td>\n",
       "      <td>19.777745</td>\n",
       "      <td>21.864017</td>\n",
       "    </tr>\n",
       "    <tr>\n",
       "      <th>2519</th>\n",
       "      <td>6.047106</td>\n",
       "      <td>9.433243</td>\n",
       "      <td>25.116526</td>\n",
       "      <td>12.390862</td>\n",
       "      <td>14.640537</td>\n",
       "      <td>14.402131</td>\n",
       "      <td>9.360028</td>\n",
       "      <td>11.459227</td>\n",
       "      <td>13.924870</td>\n",
       "      <td>16.981225</td>\n",
       "      <td>...</td>\n",
       "      <td>5.826921</td>\n",
       "      <td>19.077043</td>\n",
       "      <td>6.082542</td>\n",
       "      <td>10.161197</td>\n",
       "      <td>16.570765</td>\n",
       "      <td>11.472943</td>\n",
       "      <td>21.512332</td>\n",
       "      <td>21.461008</td>\n",
       "      <td>19.936925</td>\n",
       "      <td>21.849304</td>\n",
       "    </tr>\n",
       "    <tr>\n",
       "      <th>2520</th>\n",
       "      <td>6.037426</td>\n",
       "      <td>9.479377</td>\n",
       "      <td>25.056394</td>\n",
       "      <td>12.404451</td>\n",
       "      <td>14.547405</td>\n",
       "      <td>14.451459</td>\n",
       "      <td>9.391783</td>\n",
       "      <td>11.521737</td>\n",
       "      <td>13.915437</td>\n",
       "      <td>17.011399</td>\n",
       "      <td>...</td>\n",
       "      <td>5.737640</td>\n",
       "      <td>18.913845</td>\n",
       "      <td>6.130890</td>\n",
       "      <td>10.134445</td>\n",
       "      <td>16.580241</td>\n",
       "      <td>11.367114</td>\n",
       "      <td>21.324424</td>\n",
       "      <td>21.255863</td>\n",
       "      <td>19.773677</td>\n",
       "      <td>21.968605</td>\n",
       "    </tr>\n",
       "  </tbody>\n",
       "</table>\n",
       "<p>2521 rows × 500 columns</p>\n",
       "</div>"
      ],
      "text/plain": [
       "           0         1          2          3          4          5    \\\n",
       "0     1.000000  1.000000   1.000000   1.000000   1.000000   1.000000   \n",
       "1     0.994585  0.994836   1.009794   0.995536   1.011554   1.012894   \n",
       "2     1.001763  0.986053   1.010946   0.991270   0.995278   1.025041   \n",
       "3     0.996226  0.988255   1.015051   0.987940   0.980119   1.032847   \n",
       "4     0.999129  0.985933   1.028858   0.985520   0.974813   1.028153   \n",
       "...        ...       ...        ...        ...        ...        ...   \n",
       "2516  6.137746  9.222553  24.816925  12.362604  14.821643  14.315350   \n",
       "2517  6.058966  9.284902  25.028574  12.400771  14.639519  14.453230   \n",
       "2518  6.058994  9.378915  25.383539  12.316807  14.547285  14.471511   \n",
       "2519  6.047106  9.433243  25.116526  12.390862  14.640537  14.402131   \n",
       "2520  6.037426  9.479377  25.056394  12.404451  14.547405  14.451459   \n",
       "\n",
       "           6          7          8          9    ...       490        491  \\\n",
       "0     1.000000   1.000000   1.000000   1.000000  ...  1.000000   1.000000   \n",
       "1     0.993655   0.995431   1.005055   0.998681  ...  0.991622   1.000702   \n",
       "2     0.998981   0.998046   1.010822   0.999493  ...  0.994568   0.993370   \n",
       "3     0.998722   0.996958   1.014025   1.000395  ...  0.992146   0.987496   \n",
       "4     1.006805   0.988419   1.026084   0.999596  ...  0.990936   0.987135   \n",
       "...        ...        ...        ...        ...  ...       ...        ...   \n",
       "2516  9.392127  11.628609  14.017804  17.000125  ...  5.848709  18.883243   \n",
       "2517  9.388564  11.522219  13.817335  17.119496  ...  5.830896  18.977373   \n",
       "2518  9.371804  11.543580  13.932429  16.940006  ...  5.778741  19.028090   \n",
       "2519  9.360028  11.459227  13.924870  16.981225  ...  5.826921  19.077043   \n",
       "2520  9.391783  11.521737  13.915437  17.011399  ...  5.737640  18.913845   \n",
       "\n",
       "           492        493        494        495        496        497  \\\n",
       "0     1.000000   1.000000   1.000000   1.000000   1.000000   1.000000   \n",
       "1     1.009521   0.992616   1.000475   1.009281   0.994781   1.006685   \n",
       "2     1.011086   1.000781   1.009329   1.018902   1.007620   1.013302   \n",
       "3     1.022729   1.008206   1.002207   1.018510   1.003866   1.022186   \n",
       "4     1.033853   1.011103   0.999662   1.012545   1.020077   1.004769   \n",
       "...        ...        ...        ...        ...        ...        ...   \n",
       "2516  6.106191  10.245972  16.430624  11.672435  21.094141  21.245792   \n",
       "2517  6.087018  10.269466  16.343787  11.695755  21.449380  21.481645   \n",
       "2518  6.075776  10.251407  16.567544  11.607053  21.746848  21.429216   \n",
       "2519  6.082542  10.161197  16.570765  11.472943  21.512332  21.461008   \n",
       "2520  6.130890  10.134445  16.580241  11.367114  21.324424  21.255863   \n",
       "\n",
       "            498        499  \n",
       "0      1.000000   1.000000  \n",
       "1      0.987938   1.006760  \n",
       "2      0.983232   1.012356  \n",
       "3      0.977532   1.014907  \n",
       "4      0.976974   1.015302  \n",
       "...         ...        ...  \n",
       "2516  19.811210  21.506070  \n",
       "2517  19.842627  21.780834  \n",
       "2518  19.777745  21.864017  \n",
       "2519  19.936925  21.849304  \n",
       "2520  19.773677  21.968605  \n",
       "\n",
       "[2521 rows x 500 columns]"
      ]
     },
     "execution_count": 38,
     "metadata": {},
     "output_type": "execute_result"
    }
   ],
   "source": [
    "# Run the Monte Carlo simulation to forecast 10 years cumulative returns\n",
    "# YOUR CODE HERE\n",
    "MC_ten_years.calc_cumulative_return()"
   ]
  },
  {
   "cell_type": "code",
   "execution_count": 39,
   "metadata": {},
   "outputs": [
    {
     "data": {
      "image/png": "[encoded data removed]",
      "text/plain": [
       "<Figure size 432x288 with 1 Axes>"
      ]
     },
     "metadata": {
      "needs_background": "light"
     },
     "output_type": "display_data"
    }
   ],
   "source": [
    "# Visualize the 10-year Monte Carlo simulation by creating an\n",
    "# overlay line plot\n",
    "# YOUR CODE HERE\n",
    "MC_ten_sim_line_plot = MC_ten_years.plot_simulation()\n",
    "\n",
    "MC_ten_sim_line_plot.get_figure().savefig(\"MC_ten_years_sim_plot.png\", bbox_inches=\"tight\")"
   ]
  },
  {
   "cell_type": "code",
   "execution_count": 40,
   "metadata": {},
   "outputs": [
    {
     "data": {
      "image/png": "[encoded data removed]",
      "text/plain": [
       "<Figure size 432x288 with 1 Axes>"
      ]
     },
     "metadata": {
      "needs_background": "light"
     },
     "output_type": "display_data"
    }
   ],
   "source": [
    "# Visualize the probability distribution of the 10-year Monte Carlo simulation \n",
    "# by plotting a histogram\n",
    "# YOUR CODE HERE\n",
    "MC_10_sim_dis_plot = MC_ten_years.plot_distribution()\n",
    "MC_10_sim_dis_plot.get_figure().savefig(\"MC_ten_years_dis_plot.png\", bbox_inches=\"tight\")"
   ]
  },
  {
   "cell_type": "code",
   "execution_count": 41,
   "metadata": {},
   "outputs": [
    {
     "name": "stdout",
     "output_type": "stream",
     "text": [
      "count           500.000000\n",
      "mean             13.047428\n",
      "std               4.685599\n",
      "min               5.271966\n",
      "25%               9.611935\n",
      "50%              12.270905\n",
      "75%              15.287205\n",
      "max              32.702464\n",
      "95% CI Lower      6.231038\n",
      "95% CI Upper     24.226663\n",
      "Name: 2520, dtype: float64\n"
     ]
    }
   ],
   "source": [
    "# Generate summary statistics from the 10-year Monte Carlo simulation results\n",
    "# Save the results as a variable\n",
    "# YOUR CODE HERE\n",
    "MC_summary_statistics_ten_years = MC_ten_years.summarize_cumulative_return()\n",
    "\n",
    "\n",
    "# Review the 10-year Monte Carlo summary statistics\n",
    "# YOUR CODE HERE\n",
    "print(MC_summary_statistics_ten_years)\n"
   ]
  },
  {
   "cell_type": "markdown",
   "metadata": {},
   "source": [
    "### Answer the following questions:"
   ]
  },
  {
   "cell_type": "markdown",
   "metadata": {},
   "source": [
    "#### Question: Using the current value of only the stock and bond portion of the member's portfolio and the summary statistics that you generated from the new Monte Carlo simulation, what are the lower and upper bounds for the expected value of the portfolio (with the new weights) with a 95% confidence interval?"
   ]
  },
  {
   "cell_type": "code",
   "execution_count": 42,
   "metadata": {},
   "outputs": [
    {
     "name": "stdout",
     "output_type": "stream",
     "text": [
      "60689.5\n"
     ]
    }
   ],
   "source": [
    "# Print the current balance of the stock and bond portion of the members portfolio\n",
    "# YOUR CODE HERE\n",
    "print(total_stocks_bonds)"
   ]
  },
  {
   "cell_type": "code",
   "execution_count": 43,
   "metadata": {},
   "outputs": [
    {
     "name": "stdout",
     "output_type": "stream",
     "text": [
      "There is a 95% chance that an initial investment of $60689.5 in the portfolio over the next 30 years will end within in the range of $ 378158.61 and $ 1470304.05.\n"
     ]
    }
   ],
   "source": [
    "# Use the lower and upper `95%` confidence intervals to calculate the range of the possible outcomes for the current stock/bond portfolio\n",
    "ci_lower_ten_cumulative_return =  MC_summary_statistics_ten_years[8] * total_stocks_bonds # YOUR CODE HERE\n",
    "ci_upper_ten_cumulative_return = MC_summary_statistics_ten_years[9] * total_stocks_bonds # YOUR CODE HERE\n",
    "\n",
    "\n",
    "\n",
    "# Print the result of your calculations\n",
    "# YOUR CODE HERE\n",
    "print(f\"There is a 95% chance that an initial investment of ${total_stocks_bonds} in the portfolio\"\n",
    "    f\" over the next 30 years will end within in the range of\"\n",
    "    f\" ${ci_lower_ten_cumulative_return: .2f} and ${ci_upper_ten_cumulative_return: .2f}.\")\n"
   ]
  },
  {
   "cell_type": "markdown",
   "metadata": {},
   "source": [
    "#### Question: Will weighting the portfolio more heavily to stocks allow the credit union members to retire after only 10 years?"
   ]
  },
  {
   "cell_type": "raw",
   "metadata": {},
   "source": [
    "**Answer** # YOUR ANSWER HERE"
   ]
  },
  {
   "cell_type": "code",
   "execution_count": null,
   "metadata": {},
   "outputs": [],
   "source": []
  }
 ],
 "metadata": {
  "kernelspec": {
   "display_name": "python (dev)",
   "language": "python",
   "name": "dev"
  },
  "language_info": {
   "codemirror_mode": {
    "name": "ipython",
    "version": 3
   },
   "file_extension": ".py",
   "mimetype": "text/x-python",
   "name": "python",
   "nbconvert_exporter": "python",
   "pygments_lexer": "ipython3",
   "version": "3.7.9"
  }
 },
 "nbformat": 4,
 "nbformat_minor": 4
}
